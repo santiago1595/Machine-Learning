{
  "cells": [
    {
      "cell_type": "markdown",
      "metadata": {
        "id": "w_81u4D3WhUu"
      },
      "source": [
        "# This jupyter notebook is prepared by “Santiago Acosta Cano”."
      ]
    },
    {
      "cell_type": "markdown",
      "metadata": {
        "id": "ldYxL0f2k4An"
      },
      "source": [
        "# 1. Load Data and perform basic EDA (4pts total)"
      ]
    },
    {
      "cell_type": "markdown",
      "metadata": {
        "id": "X1i4jxzBl2XK"
      },
      "source": [
        "### 1.1 import libraries: numpy, pandas, matplotlib.pyplot, seaborn, sklearn (1pt)"
      ]
    },
    {
      "cell_type": "code",
      "execution_count": null,
      "metadata": {
        "id": "75PmFmzpR8yQ"
      },
      "outputs": [],
      "source": [
        "import pandas as pd\n",
        "import numpy as np\n",
        "import matplotlib.pyplot as plt\n",
        "import seaborn as sns\n"
      ]
    },
    {
      "cell_type": "markdown",
      "metadata": {
        "id": "NXc8-6YDmJsL"
      },
      "source": [
        "### 1.2 Upload the dataset to your Google Drive, then using the following code, import the data to a pandas dataframe and show the count of rows and columns (0.5pt)"
      ]
    },
    {
      "cell_type": "code",
      "execution_count": null,
      "metadata": {
        "id": "FdK1HFt5XOGR",
        "colab": {
          "base_uri": "https://localhost:8080/",
          "height": 73
        },
        "outputId": "eac3e070-440c-4056-cc3d-5ebfa2342af3"
      },
      "outputs": [
        {
          "output_type": "display_data",
          "data": {
            "text/plain": [
              "<IPython.core.display.HTML object>"
            ],
            "text/html": [
              "\n",
              "     <input type=\"file\" id=\"files-dce58f26-7285-4993-86a1-ef960375e054\" name=\"files[]\" multiple disabled\n",
              "        style=\"border:none\" />\n",
              "     <output id=\"result-dce58f26-7285-4993-86a1-ef960375e054\">\n",
              "      Upload widget is only available when the cell has been executed in the\n",
              "      current browser session. Please rerun this cell to enable.\n",
              "      </output>\n",
              "      <script>// Copyright 2017 Google LLC\n",
              "//\n",
              "// Licensed under the Apache License, Version 2.0 (the \"License\");\n",
              "// you may not use this file except in compliance with the License.\n",
              "// You may obtain a copy of the License at\n",
              "//\n",
              "//      http://www.apache.org/licenses/LICENSE-2.0\n",
              "//\n",
              "// Unless required by applicable law or agreed to in writing, software\n",
              "// distributed under the License is distributed on an \"AS IS\" BASIS,\n",
              "// WITHOUT WARRANTIES OR CONDITIONS OF ANY KIND, either express or implied.\n",
              "// See the License for the specific language governing permissions and\n",
              "// limitations under the License.\n",
              "\n",
              "/**\n",
              " * @fileoverview Helpers for google.colab Python module.\n",
              " */\n",
              "(function(scope) {\n",
              "function span(text, styleAttributes = {}) {\n",
              "  const element = document.createElement('span');\n",
              "  element.textContent = text;\n",
              "  for (const key of Object.keys(styleAttributes)) {\n",
              "    element.style[key] = styleAttributes[key];\n",
              "  }\n",
              "  return element;\n",
              "}\n",
              "\n",
              "// Max number of bytes which will be uploaded at a time.\n",
              "const MAX_PAYLOAD_SIZE = 100 * 1024;\n",
              "\n",
              "function _uploadFiles(inputId, outputId) {\n",
              "  const steps = uploadFilesStep(inputId, outputId);\n",
              "  const outputElement = document.getElementById(outputId);\n",
              "  // Cache steps on the outputElement to make it available for the next call\n",
              "  // to uploadFilesContinue from Python.\n",
              "  outputElement.steps = steps;\n",
              "\n",
              "  return _uploadFilesContinue(outputId);\n",
              "}\n",
              "\n",
              "// This is roughly an async generator (not supported in the browser yet),\n",
              "// where there are multiple asynchronous steps and the Python side is going\n",
              "// to poll for completion of each step.\n",
              "// This uses a Promise to block the python side on completion of each step,\n",
              "// then passes the result of the previous step as the input to the next step.\n",
              "function _uploadFilesContinue(outputId) {\n",
              "  const outputElement = document.getElementById(outputId);\n",
              "  const steps = outputElement.steps;\n",
              "\n",
              "  const next = steps.next(outputElement.lastPromiseValue);\n",
              "  return Promise.resolve(next.value.promise).then((value) => {\n",
              "    // Cache the last promise value to make it available to the next\n",
              "    // step of the generator.\n",
              "    outputElement.lastPromiseValue = value;\n",
              "    return next.value.response;\n",
              "  });\n",
              "}\n",
              "\n",
              "/**\n",
              " * Generator function which is called between each async step of the upload\n",
              " * process.\n",
              " * @param {string} inputId Element ID of the input file picker element.\n",
              " * @param {string} outputId Element ID of the output display.\n",
              " * @return {!Iterable<!Object>} Iterable of next steps.\n",
              " */\n",
              "function* uploadFilesStep(inputId, outputId) {\n",
              "  const inputElement = document.getElementById(inputId);\n",
              "  inputElement.disabled = false;\n",
              "\n",
              "  const outputElement = document.getElementById(outputId);\n",
              "  outputElement.innerHTML = '';\n",
              "\n",
              "  const pickedPromise = new Promise((resolve) => {\n",
              "    inputElement.addEventListener('change', (e) => {\n",
              "      resolve(e.target.files);\n",
              "    });\n",
              "  });\n",
              "\n",
              "  const cancel = document.createElement('button');\n",
              "  inputElement.parentElement.appendChild(cancel);\n",
              "  cancel.textContent = 'Cancel upload';\n",
              "  const cancelPromise = new Promise((resolve) => {\n",
              "    cancel.onclick = () => {\n",
              "      resolve(null);\n",
              "    };\n",
              "  });\n",
              "\n",
              "  // Wait for the user to pick the files.\n",
              "  const files = yield {\n",
              "    promise: Promise.race([pickedPromise, cancelPromise]),\n",
              "    response: {\n",
              "      action: 'starting',\n",
              "    }\n",
              "  };\n",
              "\n",
              "  cancel.remove();\n",
              "\n",
              "  // Disable the input element since further picks are not allowed.\n",
              "  inputElement.disabled = true;\n",
              "\n",
              "  if (!files) {\n",
              "    return {\n",
              "      response: {\n",
              "        action: 'complete',\n",
              "      }\n",
              "    };\n",
              "  }\n",
              "\n",
              "  for (const file of files) {\n",
              "    const li = document.createElement('li');\n",
              "    li.append(span(file.name, {fontWeight: 'bold'}));\n",
              "    li.append(span(\n",
              "        `(${file.type || 'n/a'}) - ${file.size} bytes, ` +\n",
              "        `last modified: ${\n",
              "            file.lastModifiedDate ? file.lastModifiedDate.toLocaleDateString() :\n",
              "                                    'n/a'} - `));\n",
              "    const percent = span('0% done');\n",
              "    li.appendChild(percent);\n",
              "\n",
              "    outputElement.appendChild(li);\n",
              "\n",
              "    const fileDataPromise = new Promise((resolve) => {\n",
              "      const reader = new FileReader();\n",
              "      reader.onload = (e) => {\n",
              "        resolve(e.target.result);\n",
              "      };\n",
              "      reader.readAsArrayBuffer(file);\n",
              "    });\n",
              "    // Wait for the data to be ready.\n",
              "    let fileData = yield {\n",
              "      promise: fileDataPromise,\n",
              "      response: {\n",
              "        action: 'continue',\n",
              "      }\n",
              "    };\n",
              "\n",
              "    // Use a chunked sending to avoid message size limits. See b/62115660.\n",
              "    let position = 0;\n",
              "    do {\n",
              "      const length = Math.min(fileData.byteLength - position, MAX_PAYLOAD_SIZE);\n",
              "      const chunk = new Uint8Array(fileData, position, length);\n",
              "      position += length;\n",
              "\n",
              "      const base64 = btoa(String.fromCharCode.apply(null, chunk));\n",
              "      yield {\n",
              "        response: {\n",
              "          action: 'append',\n",
              "          file: file.name,\n",
              "          data: base64,\n",
              "        },\n",
              "      };\n",
              "\n",
              "      let percentDone = fileData.byteLength === 0 ?\n",
              "          100 :\n",
              "          Math.round((position / fileData.byteLength) * 100);\n",
              "      percent.textContent = `${percentDone}% done`;\n",
              "\n",
              "    } while (position < fileData.byteLength);\n",
              "  }\n",
              "\n",
              "  // All done.\n",
              "  yield {\n",
              "    response: {\n",
              "      action: 'complete',\n",
              "    }\n",
              "  };\n",
              "}\n",
              "\n",
              "scope.google = scope.google || {};\n",
              "scope.google.colab = scope.google.colab || {};\n",
              "scope.google.colab._files = {\n",
              "  _uploadFiles,\n",
              "  _uploadFilesContinue,\n",
              "};\n",
              "})(self);\n",
              "</script> "
            ]
          },
          "metadata": {}
        },
        {
          "output_type": "stream",
          "name": "stdout",
          "text": [
            "Saving hr_data_.csv to hr_data_ (1).csv\n"
          ]
        }
      ],
      "source": [
        "from google.colab import files\n",
        "uploaded = files.upload()\n"
      ]
    },
    {
      "cell_type": "code",
      "source": [
        "df = pd.read_csv(\"hr_data_.csv\")\n",
        "print(df.shape)"
      ],
      "metadata": {
        "colab": {
          "base_uri": "https://localhost:8080/"
        },
        "id": "JJdKu33epDI-",
        "outputId": "b7bb1d83-d628-4f19-addd-08992eb33566"
      },
      "execution_count": null,
      "outputs": [
        {
          "output_type": "stream",
          "name": "stdout",
          "text": [
            "(8955, 15)\n"
          ]
        }
      ]
    },
    {
      "cell_type": "markdown",
      "metadata": {
        "id": "m3KH9B2Gms7W"
      },
      "source": [
        "### 1.3 Show the top 7 and bottom 7 rows (0.5pt)"
      ]
    },
    {
      "cell_type": "code",
      "execution_count": null,
      "metadata": {
        "id": "SaEa4cRUmWip",
        "colab": {
          "base_uri": "https://localhost:8080/"
        },
        "outputId": "bb4585cb-5766-4190-e917-e24e62ffae37"
      },
      "outputs": [
        {
          "output_type": "stream",
          "name": "stdout",
          "text": [
            "   Unnamed: 0  enrollee_id      city  city_development_index gender  \\\n",
            "0           1        29725   city_40                   0.776   Male   \n",
            "1           4          666  city_162                   0.767   Male   \n",
            "2           7          402   city_46                   0.762   Male   \n",
            "3           8        27107  city_103                   0.920   Male   \n",
            "4          11        23853  city_103                   0.920   Male   \n",
            "5          12        25619   city_61                   0.913   Male   \n",
            "6          15         6588  city_114                   0.926   Male   \n",
            "\n",
            "       relevent_experience enrolled_university education_level  \\\n",
            "0   No relevent experience       no_enrollment        Graduate   \n",
            "1  Has relevent experience       no_enrollment         Masters   \n",
            "2  Has relevent experience       no_enrollment        Graduate   \n",
            "3  Has relevent experience       no_enrollment        Graduate   \n",
            "4  Has relevent experience       no_enrollment        Graduate   \n",
            "5  Has relevent experience       no_enrollment        Graduate   \n",
            "6  Has relevent experience       no_enrollment        Graduate   \n",
            "\n",
            "  major_discipline  experience company_size    company_type last_new_job  \\\n",
            "0             STEM        15.0        50-99         Pvt Ltd           >4   \n",
            "1             STEM        21.0        50-99  Funded Startup            4   \n",
            "2             STEM        13.0          <10         Pvt Ltd           >4   \n",
            "3             STEM         7.0        50-99         Pvt Ltd            1   \n",
            "4             STEM         5.0    5000-9999         Pvt Ltd            1   \n",
            "5             STEM        21.0    1000-4999         Pvt Ltd            3   \n",
            "6             STEM        16.0        10/49         Pvt Ltd           >4   \n",
            "\n",
            "   training_hours  target  \n",
            "0              47     0.0  \n",
            "1               8     0.0  \n",
            "2              18     1.0  \n",
            "3              46     1.0  \n",
            "4             108     0.0  \n",
            "5              23     0.0  \n",
            "6              18     0.0  \n",
            "      Unnamed: 0  enrollee_id      city  city_development_index  gender  \\\n",
            "8948       19143        33047  city_103                   0.920    Male   \n",
            "8949       19146        13167  city_103                   0.920    Male   \n",
            "8950       19147        21319   city_21                   0.624    Male   \n",
            "8951       19149          251  city_103                   0.920    Male   \n",
            "8952       19150        32313  city_160                   0.920  Female   \n",
            "8953       19152        29754  city_103                   0.920  Female   \n",
            "8954       19155        24576  city_103                   0.920    Male   \n",
            "\n",
            "          relevent_experience enrolled_university education_level  \\\n",
            "8948  Has relevent experience       no_enrollment        Graduate   \n",
            "8949  Has relevent experience       no_enrollment        Graduate   \n",
            "8950   No relevent experience    Full time course        Graduate   \n",
            "8951  Has relevent experience       no_enrollment         Masters   \n",
            "8952  Has relevent experience       no_enrollment        Graduate   \n",
            "8953  Has relevent experience       no_enrollment        Graduate   \n",
            "8954  Has relevent experience       no_enrollment        Graduate   \n",
            "\n",
            "     major_discipline  experience company_size    company_type last_new_job  \\\n",
            "8948             STEM        21.0       10000+         Pvt Ltd           >4   \n",
            "8949             STEM         5.0      500-999         Pvt Ltd            1   \n",
            "8950             STEM         1.0      100-500         Pvt Ltd            1   \n",
            "8951             STEM         9.0        50-99         Pvt Ltd            1   \n",
            "8952             STEM        10.0      100-500   Public Sector            3   \n",
            "8953       Humanities         7.0        10/49  Funded Startup            1   \n",
            "8954             STEM        21.0        50-99         Pvt Ltd            4   \n",
            "\n",
            "      training_hours  target  \n",
            "8948              18     0.0  \n",
            "8949              51     0.0  \n",
            "8950              52     1.0  \n",
            "8951              36     1.0  \n",
            "8952              23     0.0  \n",
            "8953              25     0.0  \n",
            "8954              44     0.0  \n"
          ]
        }
      ],
      "source": [
        "# TODO\n",
        "print(df.head(7))\n",
        "print(df.tail(7))"
      ]
    },
    {
      "cell_type": "markdown",
      "metadata": {
        "id": "gVdizy4enKsy"
      },
      "source": [
        "### 1.4 Show if any column has null values (0.5pt)"
      ]
    },
    {
      "cell_type": "code",
      "execution_count": null,
      "metadata": {
        "id": "youEZNzMnLbe",
        "colab": {
          "base_uri": "https://localhost:8080/"
        },
        "outputId": "b9cdcf61-8876-4650-c20f-fb8af0d3a0e5"
      },
      "outputs": [
        {
          "output_type": "execute_result",
          "data": {
            "text/plain": [
              "Unnamed: 0                0\n",
              "enrollee_id               0\n",
              "city                      0\n",
              "city_development_index    0\n",
              "gender                    0\n",
              "relevent_experience       0\n",
              "enrolled_university       0\n",
              "education_level           0\n",
              "major_discipline          0\n",
              "experience                0\n",
              "company_size              0\n",
              "company_type              0\n",
              "last_new_job              0\n",
              "training_hours            0\n",
              "target                    0\n",
              "dtype: int64"
            ]
          },
          "metadata": {},
          "execution_count": 11
        }
      ],
      "source": [
        "# TODO\n",
        "df.isna().sum()"
      ]
    },
    {
      "cell_type": "markdown",
      "metadata": {
        "id": "2z3XH127sPTk"
      },
      "source": [
        "### 1.5 Show/Plot the count of unique target labels and discuss its imbalances and possible issues in using it for classification. (1.5pt)"
      ]
    },
    {
      "cell_type": "code",
      "execution_count": null,
      "metadata": {
        "id": "abZRsNaHrbij",
        "colab": {
          "base_uri": "https://localhost:8080/",
          "height": 845
        },
        "outputId": "0742a9ae-a037-4114-97f5-0b9b8355aeb3"
      },
      "outputs": [
        {
          "output_type": "stream",
          "name": "stdout",
          "text": [
            "Unnamed: 0                  int64\n",
            "enrollee_id                 int64\n",
            "city                       object\n",
            "city_development_index    float64\n",
            "gender                     object\n",
            "relevent_experience        object\n",
            "enrolled_university        object\n",
            "education_level            object\n",
            "major_discipline           object\n",
            "experience                float64\n",
            "company_size               object\n",
            "company_type               object\n",
            "last_new_job               object\n",
            "training_hours              int64\n",
            "target                    float64\n",
            "dtype: object\n"
          ]
        },
        {
          "output_type": "display_data",
          "data": {
            "text/plain": [
              "<Figure size 864x648 with 1 Axes>"
            ],
            "image/png": "[encoded data removed]"
          },
          "metadata": {
            "needs_background": "light"
          }
        }
      ],
      "source": [
        "\n",
        "print(df.dtypes)\n",
        "plt.rcParams['figure.figsize'] = (12.0,9.0)\n",
        "\n",
        "sns.countplot(x=df.dtypes, data=df)\n",
        "plt.title('Count of Unique Target Labels')\n",
        "plt.xlabel('Target Label')\n",
        "plt.ylabel('Count')\n",
        "plt.show()"
      ]
    },
    {
      "cell_type": "markdown",
      "source": [
        "Upon examining the previous chart, it is evident that the numerical features amount to a mere six in total, with the remainder being object text that requires conversion into a more computationally tractable format.\n",
        "\n",
        "However, a significant drawback of having only six features to input into the model is the risk of underfitting. Given that the total number of features is 14, we are utilizing a mere 40% of the available data, which could lead to the exclusion of crucial features."
      ],
      "metadata": {
        "id": "jR6mfyyTzRYv"
      }
    },
    {
      "cell_type": "markdown",
      "metadata": {
        "id": "BNbeIOjtynuO"
      },
      "source": [
        "# 2. Feature Selection and Pre-processing (25 pts total)"
      ]
    },
    {
      "cell_type": "markdown",
      "metadata": {
        "id": "owN9XnpJ1VWZ"
      },
      "source": [
        "## 2.1 Preprocessing City (1+1+1+1 = 4pts total)"
      ]
    },
    {
      "cell_type": "markdown",
      "metadata": {
        "id": "2qDnMLJy1PPF"
      },
      "source": [
        "### 2.1.1 Plot no. of records per city so that the highest city counts are shown in descending order (1pt)"
      ]
    },
    {
      "cell_type": "code",
      "execution_count": null,
      "metadata": {
        "id": "PqC1hgu_sO--",
        "colab": {
          "base_uri": "https://localhost:8080/"
        },
        "outputId": "5773efd9-2104-4409-ea73-a68b403d8c79"
      },
      "outputs": [
        {
          "output_type": "stream",
          "name": "stdout",
          "text": [
            "city_103    2426\n",
            "city_21     1111\n",
            "city_16      836\n",
            "city_114     648\n",
            "city_160     401\n",
            "            ... \n",
            "city_127       1\n",
            "city_107       1\n",
            "city_62        1\n",
            "city_109       1\n",
            "city_25        1\n",
            "Name: city, Length: 116, dtype: int64\n"
          ]
        }
      ],
      "source": [
        "# TODO\n",
        "counts = df['city'].value_counts()\n",
        "print(counts)"
      ]
    },
    {
      "cell_type": "markdown",
      "metadata": {
        "id": "s7WiOn891a7F"
      },
      "source": [
        "### 2.1.2 How many rows belong to the count-wise top 4 cities in total and how many for the remaining? (1pt)"
      ]
    },
    {
      "cell_type": "code",
      "execution_count": null,
      "metadata": {
        "id": "RL9nN1Im1DrD",
        "colab": {
          "base_uri": "https://localhost:8080/"
        },
        "outputId": "4e8d6d78-518e-458d-f31e-443f91ee56c6"
      },
      "outputs": [
        {
          "output_type": "stream",
          "name": "stdout",
          "text": [
            "The top 4 cities has a total of :  4373\n",
            "The remaining cities has a total of:  4582\n",
            "Total rows are : 8955\n"
          ]
        }
      ],
      "source": [
        "# TODO\n",
        "print(\"The top 4 cities has a total of : \",counts[0:3].sum())\n",
        "print(\"The remaining cities has a total of: \",counts[3:].sum())\n",
        "print(\"Total rows are :\", counts.sum())"
      ]
    },
    {
      "cell_type": "markdown",
      "metadata": {
        "id": "reZOuxsBSXGF"
      },
      "source": [
        "### 2.1.3 Replace the city name with city_others if the city name is not among the top 4 (1pt)"
      ]
    },
    {
      "cell_type": "code",
      "execution_count": null,
      "metadata": {
        "id": "IxrFi5k1Oirf",
        "colab": {
          "base_uri": "https://localhost:8080/"
        },
        "outputId": "489a4560-e03c-4901-d669-429850d56952"
      },
      "outputs": [
        {
          "output_type": "stream",
          "name": "stdout",
          "text": [
            "0    city_others\n",
            "1    city_others\n",
            "2    city_others\n",
            "3       city_103\n",
            "4       city_103\n",
            "Name: city, dtype: object\n"
          ]
        }
      ],
      "source": [
        "# TODO top cities are 103, 21, 16, 114\n",
        "top_cities = ['city_103','city_21','city_16','city_114']\n",
        "df.loc[~df['city'].isin(top_cities), 'city'] = 'city_others'\n",
        "print(df['city'].head())"
      ]
    },
    {
      "cell_type": "markdown",
      "metadata": {
        "id": "J09Oz726Sv90"
      },
      "source": [
        "### 2.1.4 Show some sample data that the records have changed correctly. (1pt)"
      ]
    },
    {
      "cell_type": "code",
      "execution_count": null,
      "metadata": {
        "id": "esi0-ntwSvjX",
        "colab": {
          "base_uri": "https://localhost:8080/"
        },
        "outputId": "13e96c7e-3251-4285-913f-84e7b4a34078"
      },
      "outputs": [
        {
          "output_type": "stream",
          "name": "stdout",
          "text": [
            "0    city_others\n",
            "1    city_others\n",
            "2    city_others\n",
            "3       city_103\n",
            "4       city_103\n",
            "5    city_others\n",
            "6       city_114\n",
            "7    city_others\n",
            "8       city_114\n",
            "9    city_others\n",
            "Name: city, dtype: object\n",
            "8945    city_others\n",
            "8946    city_others\n",
            "8947    city_others\n",
            "8948       city_103\n",
            "8949       city_103\n",
            "8950        city_21\n",
            "8951       city_103\n",
            "8952    city_others\n",
            "8953       city_103\n",
            "8954       city_103\n",
            "Name: city, dtype: object\n"
          ]
        }
      ],
      "source": [
        "# TODO\n",
        "print(df['city'].head(10))\n",
        "print(df['city'].tail(10))"
      ]
    },
    {
      "cell_type": "markdown",
      "metadata": {
        "id": "t8Y0Fz4RTAHc"
      },
      "source": [
        "## 2.2. Preprocessing Education Level (1+2+2+1 = 6pts total)"
      ]
    },
    {
      "cell_type": "markdown",
      "metadata": {
        "id": "EhNJLVAsTFT5"
      },
      "source": [
        "### 2.2.1. Show the unique values of education level. (1pt)"
      ]
    },
    {
      "cell_type": "code",
      "execution_count": null,
      "metadata": {
        "id": "gIzfPOywTDEz",
        "colab": {
          "base_uri": "https://localhost:8080/",
          "height": 775
        },
        "outputId": "a11d7cda-3823-4703-91cd-44266bef8c41"
      },
      "outputs": [
        {
          "output_type": "stream",
          "name": "stdout",
          "text": [
            "0       Graduate\n",
            "1        Masters\n",
            "2       Graduate\n",
            "3       Graduate\n",
            "4       Graduate\n",
            "          ...   \n",
            "8950    Graduate\n",
            "8951     Masters\n",
            "8952    Graduate\n",
            "8953    Graduate\n",
            "8954    Graduate\n",
            "Name: education_level, Length: 8955, dtype: object\n"
          ]
        },
        {
          "output_type": "display_data",
          "data": {
            "text/plain": [
              "<Figure size 864x648 with 1 Axes>"
            ],
            "image/png": "[encoded data removed]"
          },
          "metadata": {
            "needs_background": "light"
          }
        }
      ],
      "source": [
        "# TODO\n",
        "print(df['education_level'])\n",
        "sns.countplot(x=df[\"education_level\"], data=df['education_level'])\n",
        "plt.title(\"Unique education levels\")\n",
        "plt.xlabel(\"education level\")\n",
        "plt.ylabel(\"count\")\n",
        "plt.show()"
      ]
    },
    {
      "cell_type": "markdown",
      "metadata": {
        "id": "mbLeUaKvfttp"
      },
      "source": [
        "### 2.2.2. Write a function named replace_labels() that can replace labels using given {old_label:new_label} dictionary (2pts)\n",
        "\n",
        "Parameters: (1) dataframe, (2) a column name, (3) a dictionary with {old_label:new_label} mapping. \n",
        "\n",
        "Returns: a dataframe with specified column values replaced with the  \n"
      ]
    },
    {
      "cell_type": "code",
      "execution_count": null,
      "metadata": {
        "id": "sptGBzaVfthA"
      },
      "outputs": [],
      "source": [
        "# TODO\n",
        "def replace_labels(df, col_name, label_dict):\n",
        "\n",
        "    df_copy = df.copy()  # Make a copy of the input DataFrame to avoid modifying it directly\n",
        "    df_copy[col_name] = df_copy[col_name].replace(label_dict)  # Use the replace() method of the column to replace values\n",
        "    return df_copy"
      ]
    },
    {
      "cell_type": "markdown",
      "metadata": {
        "id": "B3RuKvE8iYBu"
      },
      "source": [
        "### 2.2.3. Using the replace_labels() function you just created, replace education_level column with ordinal values. The mapping can be like \"Graduate\":0, \"Masters\":1, \"Phd\":2 . (2pt)"
      ]
    },
    {
      "cell_type": "code",
      "execution_count": null,
      "metadata": {
        "id": "ZW1ZzKCihO0L",
        "colab": {
          "base_uri": "https://localhost:8080/"
        },
        "outputId": "db48a105-bba1-40a1-d50b-dd396ba53823"
      },
      "outputs": [
        {
          "output_type": "stream",
          "name": "stdout",
          "text": [
            "0    0\n",
            "1    1\n",
            "2    0\n",
            "3    0\n",
            "4    0\n",
            "5    0\n",
            "6    0\n",
            "7    1\n",
            "8    1\n",
            "9    0\n",
            "Name: education_level, dtype: int64\n"
          ]
        }
      ],
      "source": [
        "# TODO\n",
        "replace_dic = {\"Graduate\":0,\n",
        "               \"Masters\":1,\n",
        "               \"Phd\":2}\n",
        "df2 = replace_labels(df,'education_level',replace_dic)\n",
        "print(df2[\"education_level\"].head(10))"
      ]
    },
    {
      "cell_type": "markdown",
      "metadata": {
        "id": "VibwcvMDnfHZ"
      },
      "source": [
        "### 2.2.4 Show some sample data that the records have changed appropriately (1pt)"
      ]
    },
    {
      "cell_type": "code",
      "execution_count": null,
      "metadata": {
        "id": "JkObFS_bnecp",
        "colab": {
          "base_uri": "https://localhost:8080/"
        },
        "outputId": "63a29788-2b5d-4849-be31-12912b572cfc"
      },
      "outputs": [
        {
          "output_type": "stream",
          "name": "stdout",
          "text": [
            "0    0\n",
            "1    1\n",
            "2    0\n",
            "3    0\n",
            "4    0\n",
            "Name: education_level, dtype: int64\n",
            "8950    0\n",
            "8951    1\n",
            "8952    0\n",
            "8953    0\n",
            "8954    0\n",
            "Name: education_level, dtype: int64\n"
          ]
        }
      ],
      "source": [
        "# TODO\n",
        "print(df2[\"education_level\"].head())\n",
        "print(df2[\"education_level\"].tail())"
      ]
    },
    {
      "cell_type": "markdown",
      "metadata": {
        "id": "pBI-qbDiXI2M"
      },
      "source": [
        "## 2.3. Preprocessing company_size (2+2+1 = 5pts total)"
      ]
    },
    {
      "cell_type": "markdown",
      "metadata": {
        "id": "fP7UisA6ZS9X"
      },
      "source": [
        "### 2.3.1 Show the unique values of the company_size column and their counts (2pt)"
      ]
    },
    {
      "cell_type": "code",
      "execution_count": null,
      "metadata": {
        "id": "VYQ8sAQljncN",
        "colab": {
          "base_uri": "https://localhost:8080/",
          "height": 567
        },
        "outputId": "34d65164-287d-4f61-d8f5-6fd6422a326c"
      },
      "outputs": [
        {
          "output_type": "display_data",
          "data": {
            "text/plain": [
              "<Figure size 864x648 with 1 Axes>"
            ],
            "image/png": "[encoded data removed]"
          },
          "metadata": {
            "needs_background": "light"
          }
        }
      ],
      "source": [
        "# TODO\n",
        "sns.countplot(x=df[\"company_size\"], data=df['company_size'])\n",
        "plt.title(\"Unique values for Company sizes\")\n",
        "plt.xlabel(\"type of value\")\n",
        "plt.ylabel(\"count\")\n",
        "plt.show()"
      ]
    },
    {
      "cell_type": "markdown",
      "metadata": {
        "id": "o1iq9fTcjWMU"
      },
      "source": [
        "### 2.3.2 Change the values of the company_size column from 0 to 7 where e0 is <10 and 7 is 10000+. The order of the numbers should be based on the values of the column-like an ordinary variable. (2pt)\n",
        "(Hint: you can use the replace_labels() function you created before.)"
      ]
    },
    {
      "cell_type": "code",
      "execution_count": null,
      "metadata": {
        "id": "qi2Y6fJfeyDi"
      },
      "outputs": [],
      "source": [
        "# TODO\n",
        "replace_dic2 = {\"<10\":0,\n",
        "                \"10/49\":1,\n",
        "                \"50-99\":2,\n",
        "                \"100-500\":3,\n",
        "                \"500-999\":4,\n",
        "                \"1000-4999\":5,\n",
        "                \"5000-9999\":6,\n",
        "                \"10000+\":7}\n",
        "df2 = replace_labels(df2,'company_size',replace_dic2)\n"
      ]
    },
    {
      "cell_type": "markdown",
      "metadata": {
        "id": "-1c8cj2wj0Bo"
      },
      "source": [
        "### 2.3.3 Show the updated unique values to validate they changed appropriately (1pt)"
      ]
    },
    {
      "cell_type": "code",
      "execution_count": null,
      "metadata": {
        "id": "JNWa09UxelPH",
        "colab": {
          "base_uri": "https://localhost:8080/"
        },
        "outputId": "cd8f9e4b-75ed-4e12-db05-886aca00938e"
      },
      "outputs": [
        {
          "output_type": "stream",
          "name": "stdout",
          "text": [
            "0    2\n",
            "1    2\n",
            "2    0\n",
            "3    2\n",
            "4    6\n",
            "5    5\n",
            "6    1\n",
            "7    3\n",
            "8    3\n",
            "9    5\n",
            "Name: company_size, dtype: int64\n",
            "8945    1\n",
            "8946    2\n",
            "8947    1\n",
            "8948    7\n",
            "8949    4\n",
            "8950    3\n",
            "8951    2\n",
            "8952    3\n",
            "8953    1\n",
            "8954    2\n",
            "Name: company_size, dtype: int64\n"
          ]
        }
      ],
      "source": [
        "# TODO\n",
        "print(df2[\"company_size\"].head(10))\n",
        "print(df2[\"company_size\"].tail(10))"
      ]
    },
    {
      "cell_type": "markdown",
      "metadata": {
        "id": "ray9mgZGkMyg"
      },
      "source": [
        "## 2.4. Preprocessing last_new_job (1+2+1 = 4pts total)"
      ]
    },
    {
      "cell_type": "markdown",
      "metadata": {
        "id": "Ry0YEyP7kP51"
      },
      "source": [
        "### 2.4.1 Show unique values of the last_new_job column (1pt)"
      ]
    },
    {
      "cell_type": "code",
      "execution_count": null,
      "metadata": {
        "id": "9aGPR049kSuN",
        "colab": {
          "base_uri": "https://localhost:8080/",
          "height": 567
        },
        "outputId": "f11557af-0170-4c3a-9c2c-b00a50fa59bb"
      },
      "outputs": [
        {
          "output_type": "display_data",
          "data": {
            "text/plain": [
              "<Figure size 864x648 with 1 Axes>"
            ],
            "image/png": "[encoded data removed]"
          },
          "metadata": {
            "needs_background": "light"
          }
        }
      ],
      "source": [
        "# TODO\n",
        "sns.countplot(x=df2[\"last_new_job\"], data=df2['last_new_job'])\n",
        "plt.title(\"Difference in years between previous job and current job\")\n",
        "plt.xlabel(\"type of job\")\n",
        "plt.ylabel(\"count\")\n",
        "plt.show()"
      ]
    },
    {
      "cell_type": "markdown",
      "metadata": {
        "id": "KowRVFGOkXv4"
      },
      "source": [
        "\n",
        "\n",
        "```\n",
        "# This is formatted as code\n",
        "```\n",
        "\n",
        "### 2.4.2 Convert the values of this column to never->0, 1->1,....>4 -->5 (2pt)\n",
        "Hint: replace_labels()"
      ]
    },
    {
      "cell_type": "code",
      "execution_count": null,
      "metadata": {
        "id": "4AfLULymkZu3"
      },
      "outputs": [],
      "source": [
        "# TODO\n",
        "replace_dict3 = {\n",
        "    \"never\": 0,\n",
        "    \"1\":1,\n",
        "    \"2\":2,\n",
        "    \"3\":3,\n",
        "    \"4\":4,\n",
        "    \">4\":5\n",
        "}\n",
        "df2 = replace_labels(df2,'last_new_job',replace_dict3)"
      ]
    },
    {
      "cell_type": "markdown",
      "metadata": {
        "id": "3T-Wjg6dk3Uj"
      },
      "source": [
        "### 2.4.3 Show the updated values (1pt)"
      ]
    },
    {
      "cell_type": "code",
      "execution_count": null,
      "metadata": {
        "id": "dpI9oBlbk5bb",
        "colab": {
          "base_uri": "https://localhost:8080/"
        },
        "outputId": "d66a839f-5ad1-43da-9330-3c4ffda11e5f"
      },
      "outputs": [
        {
          "output_type": "stream",
          "name": "stdout",
          "text": [
            "0    4\n",
            "1    3\n",
            "2    4\n",
            "3    0\n",
            "4    0\n",
            "5    2\n",
            "6    4\n",
            "7    0\n",
            "8    1\n",
            "9    0\n",
            "Name: last_new_job, dtype: int64\n",
            "8945    0\n",
            "8946    1\n",
            "8947    2\n",
            "8948    4\n",
            "8949    0\n",
            "8950    0\n",
            "8951    0\n",
            "8952    2\n",
            "8953    0\n",
            "8954    3\n",
            "Name: last_new_job, dtype: int64\n"
          ]
        }
      ],
      "source": [
        "# TODO\n",
        "print(df2[\"last_new_job\"].head(10))\n",
        "print(df2[\"last_new_job\"].tail(10))"
      ]
    },
    {
      "cell_type": "markdown",
      "metadata": {
        "id": "3R2tk1uJlGa5"
      },
      "source": [
        "## 2.5 Preprocessing other columns (2pt total)"
      ]
    },
    {
      "cell_type": "markdown",
      "metadata": {
        "id": "RuJyodTglKCH"
      },
      "source": [
        "### 2.5.1 Drop the enrollee_id, any unnamed columns, and any duplicate columns (if you created multiple columns one with original and one with updated, then remove the original one) (2pt)"
      ]
    },
    {
      "cell_type": "code",
      "execution_count": null,
      "metadata": {
        "id": "f8eJgpamlOfr",
        "colab": {
          "base_uri": "https://localhost:8080/"
        },
        "outputId": "72bbdf73-5ec0-417c-9395-9d17c8caca66"
      },
      "outputs": [
        {
          "output_type": "stream",
          "name": "stdout",
          "text": [
            "level_0                     int64\n",
            "index                       int64\n",
            "city                        int64\n",
            "city_development_index    float64\n",
            "gender                      int64\n",
            "relevent_experience         int64\n",
            "enrolled_university         int64\n",
            "education_level             int64\n",
            "major_discipline            int64\n",
            "experience                float64\n",
            "company_size                int64\n",
            "company_type                int64\n",
            "last_new_job                int64\n",
            "training_hours            float64\n",
            "target                    float64\n",
            "dtype: object\n"
          ]
        }
      ],
      "source": [
        "# TODO\n",
        "#df2 = df2.drop(columns='enrollee_id',axis=1)\n",
        "#df2 = df2.drop(columns='Unnamed: 0',axis=1)\n",
        "print(df2.dtypes)"
      ]
    },
    {
      "cell_type": "markdown",
      "metadata": {
        "id": "5M9JeVgJowZm"
      },
      "source": [
        "## 2.6 Feature Scaling (3+1 = 4ps total)"
      ]
    },
    {
      "cell_type": "markdown",
      "metadata": {
        "id": "oYeJBSu9o0-V"
      },
      "source": [
        "### 2.6.1 Use sklearn.preprocessing's MinMaxScaler to perform min max scaling to all the numeric columns (3pt)"
      ]
    },
    {
      "cell_type": "code",
      "execution_count": null,
      "metadata": {
        "id": "0TZHEB3srp2x",
        "colab": {
          "base_uri": "https://localhost:8080/"
        },
        "outputId": "73ec398a-d910-4c2a-f5a9-41a260edfe07"
      },
      "outputs": [
        {
          "output_type": "stream",
          "name": "stdout",
          "text": [
            "   city_development_index  education_level  experience  company_size  \\\n",
            "0                   0.776                0        15.0             2   \n",
            "1                   0.767                1        21.0             2   \n",
            "2                   0.762                0        13.0             0   \n",
            "3                   0.920                0         7.0             2   \n",
            "4                   0.920                0         5.0             6   \n",
            "\n",
            "   last_new_job  training_hours  target  \n",
            "0             5              47     0.0  \n",
            "1             4               8     0.0  \n",
            "2             5              18     1.0  \n",
            "3             1              46     1.0  \n",
            "4             1             108     0.0  \n"
          ]
        }
      ],
      "source": [
        "# TODO\n",
        "from sklearn.preprocessing import MinMaxScaler,LabelEncoder\n",
        "\n",
        "#Selecting all the columns with the numeric values\n",
        "num_df = df2.select_dtypes(include=np.number)\n",
        "print(num_df.head())"
      ]
    },
    {
      "cell_type": "code",
      "execution_count": null,
      "metadata": {
        "id": "7vBopV2qo3zT",
        "colab": {
          "base_uri": "https://localhost:8080/"
        },
        "outputId": "6a0ec51e-84d8-4323-c900-a9d9572547c5"
      },
      "outputs": [
        {
          "output_type": "stream",
          "name": "stdout",
          "text": [
            "   level_0  index  city  city_development_index  gender  relevent_experience  \\\n",
            "0        0      0     4                0.654691       1                    1   \n",
            "1        1      1     4                0.636727       1                    0   \n",
            "2        2      2     4                0.626747       1                    0   \n",
            "3        3      3     0                0.942116       1                    0   \n",
            "4        4      4     0                0.942116       1                    0   \n",
            "\n",
            "   enrolled_university  education_level  major_discipline  experience  \\\n",
            "0                    2              0.0                 5    0.714286   \n",
            "1                    2              0.5                 5    1.000000   \n",
            "2                    2              0.0                 5    0.619048   \n",
            "3                    2              0.0                 5    0.333333   \n",
            "4                    2              0.0                 5    0.238095   \n",
            "\n",
            "   company_size  company_type  last_new_job  training_hours  target  \n",
            "0      0.285714             5           1.0        0.137313     0.0  \n",
            "1      0.285714             1           0.8        0.020896     0.0  \n",
            "2      0.000000             5           1.0        0.050746     1.0  \n",
            "3      0.285714             5           0.2        0.134328     1.0  \n",
            "4      0.857143             5           0.2        0.319403     0.0  \n"
          ]
        }
      ],
      "source": [
        "# TODO\n",
        "#normalizing the data set \n",
        "scaler = MinMaxScaler()\n",
        "df2[['city_development_index','education_level','experience','company_size','last_new_job','training_hours','target']] = scaler.fit_transform(num_df[['city_development_index','education_level','experience','company_size','last_new_job','training_hours','target']])\n",
        "print(df2.head())"
      ]
    },
    {
      "cell_type": "markdown",
      "metadata": {
        "id": "fCradyXLQWct"
      },
      "source": [
        "### 2.6.2 Show some of the scaled records. (1pt)"
      ]
    },
    {
      "cell_type": "code",
      "execution_count": null,
      "metadata": {
        "id": "AUBUON0a1DqI",
        "colab": {
          "base_uri": "https://localhost:8080/"
        },
        "outputId": "d9dec9e7-bd09-4163-805b-0157defe1b6d"
      },
      "outputs": [
        {
          "output_type": "stream",
          "name": "stdout",
          "text": [
            "   level_0  index  city  city_development_index  gender  relevent_experience  \\\n",
            "0        0      0     4                0.654691       1                    1   \n",
            "1        1      1     4                0.636727       1                    0   \n",
            "2        2      2     4                0.626747       1                    0   \n",
            "3        3      3     0                0.942116       1                    0   \n",
            "4        4      4     0                0.942116       1                    0   \n",
            "\n",
            "   enrolled_university  education_level  major_discipline  experience  \\\n",
            "0                    2              0.0                 5    0.714286   \n",
            "1                    2              0.5                 5    1.000000   \n",
            "2                    2              0.0                 5    0.619048   \n",
            "3                    2              0.0                 5    0.333333   \n",
            "4                    2              0.0                 5    0.238095   \n",
            "\n",
            "   company_size  company_type  last_new_job  training_hours  target  \n",
            "0      0.285714             5           1.0        0.137313     0.0  \n",
            "1      0.285714             1           0.8        0.020896     0.0  \n",
            "2      0.000000             5           1.0        0.050746     1.0  \n",
            "3      0.285714             5           0.2        0.134328     1.0  \n",
            "4      0.857143             5           0.2        0.319403     0.0  \n"
          ]
        }
      ],
      "source": [
        "# TODO\n",
        "print(df2.head())"
      ]
    },
    {
      "cell_type": "markdown",
      "metadata": {
        "id": "bAqPdBXbum0v"
      },
      "source": [
        "# 3. X/Y and Training/Test Split with stratified sampling (15pts in total)"
      ]
    },
    {
      "cell_type": "markdown",
      "metadata": {
        "id": "n0vy1uyKF5DV"
      },
      "source": [
        "### 3.1 Using a lot of features with categorical values is not memory-efficient. Use a LabelEncoder() to convert all the categorical columns to numeric labels. (This task is similar to previous assignment A1) (2pt)"
      ]
    },
    {
      "cell_type": "code",
      "execution_count": null,
      "metadata": {
        "id": "QTDOZN6adW3m",
        "colab": {
          "base_uri": "https://localhost:8080/"
        },
        "outputId": "86dfe082-d470-499a-9edc-2e905d397ff3"
      },
      "outputs": [
        {
          "output_type": "stream",
          "name": "stdout",
          "text": [
            "   level_0  index  city  city_development_index  gender  relevent_experience  \\\n",
            "0        0      0     4                0.654691       1                    1   \n",
            "1        1      1     4                0.636727       1                    0   \n",
            "2        2      2     4                0.626747       1                    0   \n",
            "3        3      3     0                0.942116       1                    0   \n",
            "4        4      4     0                0.942116       1                    0   \n",
            "\n",
            "   enrolled_university  education_level  major_discipline  experience  \\\n",
            "0                    2                0                 5    0.714286   \n",
            "1                    2                1                 5    1.000000   \n",
            "2                    2                0                 5    0.619048   \n",
            "3                    2                0                 5    0.333333   \n",
            "4                    2                0                 5    0.238095   \n",
            "\n",
            "   company_size  company_type  last_new_job  training_hours  target  \n",
            "0             4             5             4        0.137313     0.0  \n",
            "1             4             1             3        0.020896     0.0  \n",
            "2             7             5             4        0.050746     1.0  \n",
            "3             4             5             0        0.134328     1.0  \n",
            "4             6             5             0        0.319403     0.0  \n",
            "level_0                     int64\n",
            "index                       int64\n",
            "city                        int64\n",
            "city_development_index    float64\n",
            "gender                      int64\n",
            "relevent_experience         int64\n",
            "enrolled_university         int64\n",
            "education_level             int64\n",
            "major_discipline            int64\n",
            "experience                float64\n",
            "company_size                int64\n",
            "company_type                int64\n",
            "last_new_job                int64\n",
            "training_hours            float64\n",
            "target                    float64\n",
            "dtype: object\n"
          ]
        }
      ],
      "source": [
        "# TODO\n",
        "for col in df.columns:\n",
        "    if df[col].dtype == 'object':  # check if column contains strings\n",
        "        le = LabelEncoder()\n",
        "        df2[col] = le.fit_transform(df[col])\n",
        "\n",
        "print(df2.head())\n",
        "print(df2.dtypes)"
      ]
    },
    {
      "cell_type": "markdown",
      "metadata": {
        "id": "qgh6gbo__lAd"
      },
      "source": [
        "### 3.2 Copy all the features into X and the target to Y (2pt)"
      ]
    },
    {
      "cell_type": "code",
      "execution_count": null,
      "metadata": {
        "id": "hJ5l0aLz_swD",
        "colab": {
          "base_uri": "https://localhost:8080/"
        },
        "outputId": "2efe53d1-0c49-458c-9d58-26ef9189f909"
      },
      "outputs": [
        {
          "output_type": "stream",
          "name": "stdout",
          "text": [
            "0       0.0\n",
            "1       0.0\n",
            "2       1.0\n",
            "3       1.0\n",
            "4       0.0\n",
            "       ... \n",
            "8950    1.0\n",
            "8951    1.0\n",
            "8952    0.0\n",
            "8953    0.0\n",
            "8954    0.0\n",
            "Name: target, Length: 8955, dtype: float64\n"
          ]
        }
      ],
      "source": [
        "# TODO\n",
        "Y = df2['target']\n",
        "X = df2[['city', 'city_development_index', 'gender', 'relevent_experience',\n",
        "       'enrolled_university', 'education_level', 'major_discipline',\n",
        "       'experience', 'company_size', 'company_type', 'last_new_job',\n",
        "       'training_hours']]\n",
        "#print(X.head())\n",
        "Y.shape\n",
        "\n",
        "#X.shape\n",
        "print(Y)"
      ]
    },
    {
      "cell_type": "markdown",
      "metadata": {
        "id": "7mxgOZ8bWCTG"
      },
      "source": [
        "### 3.3 Show the ratio of 1 and 0 in Y. (1pt)"
      ]
    },
    {
      "cell_type": "code",
      "execution_count": null,
      "metadata": {
        "id": "xCTReI87WwIn",
        "colab": {
          "base_uri": "https://localhost:8080/"
        },
        "outputId": "1a693c54-2f99-4cba-93a2-775a50138a25"
      },
      "outputs": [
        {
          "output_type": "stream",
          "name": "stdout",
          "text": [
            "0.0    0.834394\n",
            "1.0    0.165606\n",
            "Name: target, dtype: float64\n"
          ]
        }
      ],
      "source": [
        "# TODO\n",
        "value_counts = Y.value_counts(normalize=True)\n",
        "print(value_counts)"
      ]
    },
    {
      "cell_type": "markdown",
      "metadata": {
        "id": "sYiNLcbZWw-p"
      },
      "source": [
        "### 3.4 Use sklearn's train_test_split() to split the data set into 70% training and 30% test sets. Set random_state to 42. We want to have the same ratio of 0 and 1 in the test set, use the stratify parameter to Y to ensure this. Then show the ratio of 1 and 0 in both train and test target. (4pt)"
      ]
    },
    {
      "cell_type": "code",
      "execution_count": null,
      "metadata": {
        "id": "g-h2q8R4XQxX",
        "colab": {
          "base_uri": "https://localhost:8080/"
        },
        "outputId": "ce3d66b6-97fe-4077-8c4d-214e71073048"
      },
      "outputs": [
        {
          "output_type": "stream",
          "name": "stdout",
          "text": [
            "0.0    0.834388\n",
            "1.0    0.165612\n",
            "Name: target, dtype: float64\n",
            "0.0    0.834397\n",
            "1.0    0.165603\n",
            "Name: target, dtype: float64\n",
            "(6268,)\n"
          ]
        }
      ],
      "source": [
        "# TODO\n",
        "from sklearn.model_selection import train_test_split\n",
        "\n",
        "# assume X is the feature matrix and Y is the target variable\n",
        "X_train, X_test, Y_train, Y_test = train_test_split(X, Y, test_size=0.3, train_size=0.7, stratify=Y, random_state=42)\n",
        "\n",
        "# calculate the ratio of 1 and 0 in train and test sets\n",
        "ratio_y_test = Y_test.value_counts(normalize=True)\n",
        "print(ratio_y_test)\n",
        "\n",
        "ratio_y_train = Y_train.value_counts(normalize=True)\n",
        "print(ratio_y_train)\n",
        "\n",
        "print(Y_train.shape)"
      ]
    },
    {
      "cell_type": "markdown",
      "metadata": {
        "id": "9go74asN_4A3"
      },
      "source": [
        "### 3.5 Rebalancing (4+2 = 6pts)"
      ]
    },
    {
      "cell_type": "markdown",
      "metadata": {
        "id": "DcaOwlmnDFrN"
      },
      "source": [
        "3.5.1 Use imblearn's SMOTENC to balance the x_train\n"
      ]
    },
    {
      "cell_type": "markdown",
      "metadata": {
        "id": "TMo87lbJSiIB"
      },
      "source": [
        "When our training set have class imbalance, we often perform over-sampling to generate synthetic data that can help in training. SMOTE is a library by imblearn for this purpose. The usage is fairly straightforward. See documentation [here](https://imbalanced-learn.org/stable/references/generated/imblearn.over_sampling.SMOTENC.html#imblearn.over_sampling.SMOTENC) and a brief explanation with example [here](https://medium.com/analytics-vidhya/smote-nc-in-ml-categorization-models-fo-imbalanced-datasets-8adbdcf08c25)"
      ]
    },
    {
      "cell_type": "code",
      "execution_count": null,
      "metadata": {
        "id": "Gg5q3iNCaCX5"
      },
      "outputs": [],
      "source": [
        "# TODO\n",
        "\n",
        "from imblearn.over_sampling import SMOTENC\n",
        "\n",
        "categorical_features = [1,2,5,6,7,8,9,10,11]\n",
        "\n",
        "# define the SMOTENC sampler\n",
        "smotenc = SMOTENC(categorical_features=categorical_features, random_state=42)\n",
        "\n",
        "# fit and resample the data\n",
        "x_train_bal, y_train_bal = smotenc.fit_resample(X_train, Y_train)"
      ]
    },
    {
      "cell_type": "markdown",
      "metadata": {
        "id": "OOLWrq4EC6pN"
      },
      "source": [
        "3.5.2 Did that change the ratio in label? Confirm by printing the ratio in resampled labels."
      ]
    },
    {
      "cell_type": "code",
      "execution_count": null,
      "metadata": {
        "id": "gX5UzM45CgKg",
        "colab": {
          "base_uri": "https://localhost:8080/"
        },
        "outputId": "47228735-6ed1-4ff5-90a6-603f892ae8d8"
      },
      "outputs": [
        {
          "output_type": "stream",
          "name": "stdout",
          "text": [
            "0.0    0.5\n",
            "1.0    0.5\n",
            "Name: target, dtype: float64\n",
            "city  city_development_index  gender  relevent_experience  enrolled_university  education_level  major_discipline  experience  company_size  company_type  last_new_job  training_hours\n",
            "3     0.351297                1       0                    0                    0                5                 0.238095    3             5             0             0.032836          0.002008\n",
            "0     0.942116                1       0                    2                    0                5                 1.000000    3             5             4             0.232836          0.001625\n",
            "3     0.351297                1       0                    2                    0                5                 0.190476    2             5             0             0.038806          0.001243\n",
            "4     0.203593                1       0                    2                    0                5                 0.238095    4             5             0             0.068657          0.001052\n",
            "3     0.351297                1       0                    2                    0                5                 0.285714    3             5             1             0.122388          0.001052\n",
            "                                                                                                                                                                                             ...   \n",
            "2     0.922156                1       0                    2                    0                5                 0.380952    1             5             4             0.256716          0.000096\n",
            "                                                                                                                                                                         0.211940          0.000096\n",
            "                                                                                                                                                           0             0.229851          0.000096\n",
            "                                                                                                                                                                         0.041791          0.000096\n",
            "4     1.000000                1       1                    2                    2                2                 0.285714    2             4             4             0.376119          0.000096\n",
            "Length: 8835, dtype: float64\n"
          ]
        }
      ],
      "source": [
        "# TODO\n",
        "ratio_resaple = y_train_bal.value_counts(normalize=True)\n",
        "print(ratio_resaple)\n",
        "ratio_resaple_x = x_train_bal.value_counts(normalize=True)\n",
        "print(ratio_resaple_x)"
      ]
    },
    {
      "cell_type": "markdown",
      "metadata": {
        "id": "IEKsXRt-aDbT"
      },
      "source": [
        "# 4. Decision Tree (20pts total)"
      ]
    },
    {
      "cell_type": "markdown",
      "metadata": {
        "id": "IW262Gdlakso"
      },
      "source": [
        "### 4.1 Initialize a decision tree model using sklearns DecisionTreeClassifier. Use the unbalanced training set. Set a consistent value for random_state parameter so that your result is reproducible. (1pt)"
      ]
    },
    {
      "cell_type": "code",
      "execution_count": null,
      "metadata": {
        "id": "tZ8TFB2kauD8",
        "colab": {
          "base_uri": "https://localhost:8080/"
        },
        "outputId": "b4c503ad-ebd6-41ba-82b4-f338f6f1e082"
      },
      "outputs": [
        {
          "output_type": "execute_result",
          "data": {
            "text/plain": [
              "DecisionTreeClassifier(random_state=42)"
            ]
          },
          "metadata": {},
          "execution_count": 368
        }
      ],
      "source": [
        "# TODO\n",
        "from sklearn.tree import DecisionTreeClassifier\n",
        "\n",
        "# Initialize a decision tree model\n",
        "dt_model = DecisionTreeClassifier(random_state=42)\n",
        "\n",
        "# Train the model on the unbalanced training set\n",
        "dt_model.fit(X_train, Y_train)"
      ]
    },
    {
      "cell_type": "markdown",
      "metadata": {
        "id": "Zl1qOJnvVXxh"
      },
      "source": [
        "### 4.2 Use grid search to find out the best combination of values for the parameters: criterion, max_depth, min_samples_split, max_features. Then print the best performing parameters. (4pt)"
      ]
    },
    {
      "cell_type": "code",
      "execution_count": null,
      "metadata": {
        "id": "qQpIAji7M_od",
        "colab": {
          "base_uri": "https://localhost:8080/"
        },
        "outputId": "cab9dc28-dd1c-4d49-a67e-626325e889f4"
      },
      "outputs": [
        {
          "output_type": "stream",
          "name": "stdout",
          "text": [
            "Best parameters found:  {'criterion': 'entropy', 'max_depth': 3, 'max_features': 'auto', 'min_samples_split': 2}\n"
          ]
        }
      ],
      "source": [
        "# TODO\n",
        "from sklearn.model_selection import GridSearchCV\n",
        "\n",
        "# Define the parameter grid to search\n",
        "param_grid = {'criterion': ['gini', 'entropy'],\n",
        "              'max_depth': [1, 3, 5, 10],\n",
        "              'min_samples_split': [2, 3, 4, 10],\n",
        "              'max_features': ['auto','sqrt', 'log2']}\n",
        "\n",
        "\n",
        "# Define the grid search object with the decision tree model and the parameter grid\n",
        "#dt_model is the decision tree classifier aka the estimator\n",
        "grid_tree = GridSearchCV(estimator=dt_model, param_grid=param_grid,scoring='precision')\n",
        "\n",
        "# Fit the grid search object to the training data\n",
        "grid_tree.fit(x_train_bal, y_train_bal)\n",
        "\n",
        "# Print the best parameters found by the grid search\n",
        "print(\"Best parameters found: \", grid_tree.best_params_)"
      ]
    },
    {
      "cell_type": "markdown",
      "metadata": {
        "id": "UJRSRsVeWC8y"
      },
      "source": [
        "### 4.3 Add the best performing parameter set to the already-initialized Decision Tree model. Then fit it on the train dataset. (2pt)"
      ]
    },
    {
      "cell_type": "code",
      "execution_count": null,
      "metadata": {
        "id": "hEaJbzrlQaBY",
        "colab": {
          "base_uri": "https://localhost:8080/"
        },
        "outputId": "67e13adc-8386-4420-fd7a-b48e797a8015"
      },
      "outputs": [
        {
          "output_type": "execute_result",
          "data": {
            "text/plain": [
              "DecisionTreeClassifier(criterion='entropy', max_depth=3, max_features='auto',\n",
              "                       random_state=42)"
            ]
          },
          "metadata": {},
          "execution_count": 370
        }
      ],
      "source": [
        "# TODO\n",
        "dt_model.set_params(criterion = 'entropy',max_depth= 3,max_features='auto',min_samples_split= 2)\n",
        "\n",
        "dt_model.fit(X_train, Y_train)"
      ]
    },
    {
      "cell_type": "markdown",
      "metadata": {
        "id": "WPYRzwmIWeSZ"
      },
      "source": [
        "### 4.4 Import the accuracy_score, precision_score, recall_score, confusion_matrix, f1_score, roc_auc_score from scikitlearn's metrics package. Evaluate your Decision Tree on the Test dataset and print all the metrics. (3pt)"
      ]
    },
    {
      "cell_type": "code",
      "execution_count": null,
      "metadata": {
        "id": "Opr3pQspcwQN",
        "colab": {
          "base_uri": "https://localhost:8080/"
        },
        "outputId": "3eb7be60-3a3f-4779-a212-b5bc0275d100"
      },
      "outputs": [
        {
          "output_type": "stream",
          "name": "stdout",
          "text": [
            "Accuracy: 0.8578340156308151\n",
            "Precision: 0.5789473684210527\n",
            "Recall: 0.5191011235955056\n",
            "Confusion Matrix:\n",
            " [[2074  168]\n",
            " [ 214  231]]\n",
            "F1 Score: 0.54739336492891\n",
            "ROC AUC Score: 0.7220840140725076\n"
          ]
        }
      ],
      "source": [
        "# TODO\n",
        "from sklearn.metrics import accuracy_score, precision_score, recall_score, confusion_matrix, f1_score, roc_auc_score\n",
        "\n",
        "# predict on the test set\n",
        "Y_pred = dt_model.predict(X_test)\n",
        "\n",
        "# calculate and print the evaluation metrics\n",
        "print(\"Accuracy:\", accuracy_score(Y_test, Y_pred))\n",
        "print(\"Precision:\", precision_score(Y_test, Y_pred))\n",
        "print(\"Recall:\", recall_score(Y_test, Y_pred))\n",
        "print(\"Confusion Matrix:\\n\", confusion_matrix(Y_test, Y_pred))\n",
        "print(\"F1 Score:\", f1_score(Y_test, Y_pred))\n",
        "print(\"ROC AUC Score:\", roc_auc_score(Y_test, Y_pred))"
      ]
    },
    {
      "cell_type": "markdown",
      "metadata": {
        "id": "2UP7aQs0GQwX"
      },
      "source": [
        "### 4.5 Plot the tree using scikitlearn's tree package. You may need to define a large figure size using matplotlib to have an intelligible figure. (2pt)"
      ]
    },
    {
      "cell_type": "code",
      "execution_count": null,
      "metadata": {
        "id": "pnwDm0uiE-KP",
        "colab": {
          "base_uri": "https://localhost:8080/",
          "height": 575
        },
        "outputId": "b6f12ed3-a063-4a27-bd05-f270c08259b0"
      },
      "outputs": [
        {
          "output_type": "display_data",
          "data": {
            "text/plain": [
              "<Figure size 1440x720 with 1 Axes>"
            ],
            "image/png": "[encoded data removed]"
          },
          "metadata": {
            "needs_background": "light"
          }
        }
      ],
      "source": [
        "# TODO\n",
        "import matplotlib.pyplot as plt\n",
        "from sklearn.tree import plot_tree\n",
        "\n",
        "plt.figure(figsize=(20,10))\n",
        "plot_tree(dt_model, filled=True, feature_names=X_train.columns)\n",
        "plt.show()"
      ]
    },
    {
      "cell_type": "markdown",
      "metadata": {
        "id": "RmrdrwU-Dvf6"
      },
      "source": [
        "### 4.6 Initialize a new Decision Tree model, then use the best set of parameters from Step 4.3 to train it on the balanced train set that you prepared in Step 3.5.1. (3pt)"
      ]
    },
    {
      "cell_type": "code",
      "execution_count": null,
      "metadata": {
        "id": "7SD0orb7Dhdf",
        "colab": {
          "base_uri": "https://localhost:8080/"
        },
        "outputId": "64ecc453-2729-4ca7-d293-5d03cd3cc324"
      },
      "outputs": [
        {
          "output_type": "execute_result",
          "data": {
            "text/plain": [
              "DecisionTreeClassifier(criterion='entropy', max_depth=3, max_features='auto',\n",
              "                       random_state=42)"
            ]
          },
          "metadata": {},
          "execution_count": 373
        }
      ],
      "source": [
        "# TODO\n",
        "dt_model.set_params(criterion = 'entropy',max_depth= 3,max_features= 'auto',min_samples_split= 2)\n",
        "\n",
        "dt_model.fit(x_train_bal, y_train_bal)"
      ]
    },
    {
      "cell_type": "markdown",
      "metadata": {
        "id": "ICoCAMplYVKh"
      },
      "source": [
        "### 4.7 Print the evaluation scores (accuracy_score, precision_score, recall_score, confusion_matrix, f1_score, roc_auc_score) from the training on balanced dataset. (3pt)"
      ]
    },
    {
      "cell_type": "code",
      "execution_count": null,
      "metadata": {
        "id": "-VQUO4EvY0Xr",
        "colab": {
          "base_uri": "https://localhost:8080/"
        },
        "outputId": "13661d8e-63af-44a7-8f5b-932f08290889"
      },
      "outputs": [
        {
          "output_type": "stream",
          "name": "stdout",
          "text": [
            "Accuracy: 0.8574618533680685\n",
            "Precision: 0.572429906542056\n",
            "Recall: 0.550561797752809\n",
            "Confusion Matrix:\n",
            " [[2059  183]\n",
            " [ 200  245]]\n",
            "F1 Score: 0.5612829324169532\n",
            "ROC AUC Score: 0.7344691236756907\n"
          ]
        }
      ],
      "source": [
        "# TODO\n",
        "Y_pred = dt_model.predict(X_test)\n",
        "\n",
        "# calculate and print the evaluation metrics\n",
        "print(\"Accuracy:\", accuracy_score(Y_test, Y_pred))\n",
        "print(\"Precision:\", precision_score(Y_test, Y_pred))\n",
        "print(\"Recall:\", recall_score(Y_test, Y_pred))\n",
        "print(\"Confusion Matrix:\\n\", confusion_matrix(Y_test, Y_pred))\n",
        "print(\"F1 Score:\", f1_score(Y_test, Y_pred))\n",
        "print(\"ROC AUC Score:\", roc_auc_score(Y_test, Y_pred))"
      ]
    },
    {
      "cell_type": "markdown",
      "metadata": {
        "id": "wMv-Nmaew3td"
      },
      "source": [
        "### 4.8 Discuss any difference between evaluation results from the unbalanced train set and balanced train set. (2pt)"
      ]
    },
    {
      "cell_type": "markdown",
      "metadata": {
        "id": "2c_ZSzbW1Opy"
      },
      "source": [
        "During the training i find a major accuracy and better AUC score on the balanced data set. "
      ]
    },
    {
      "cell_type": "markdown",
      "metadata": {
        "id": "x_h1QYuVSqQf"
      },
      "source": [
        "# 5. Random Forest Classifier (12pts total)"
      ]
    },
    {
      "cell_type": "markdown",
      "metadata": {
        "id": "36D52lOdVs2o"
      },
      "source": [
        "### 5.1 Use grid search to find best combinations of the following Random Forest parameters: n_estimators, max_depth, min_samples_split and min_samples_leaf. Use your own choice of scoring, criterion, number of folds for cross-validation for the model initialization. Remember the grid search can take a while to finish. (4pt)"
      ]
    },
    {
      "cell_type": "code",
      "execution_count": null,
      "metadata": {
        "id": "ogCCZd3XStni",
        "colab": {
          "base_uri": "https://localhost:8080/"
        },
        "outputId": "5d00f6f1-e9cb-42d7-f8f5-83b10cff837a"
      },
      "outputs": [
        {
          "output_type": "stream",
          "name": "stdout",
          "text": [
            "Best Parameters: {'max_depth': 5, 'min_samples_leaf': 1, 'min_samples_split': 2, 'n_estimators': 50}\n"
          ]
        }
      ],
      "source": [
        "# TODO\n",
        "from sklearn.ensemble import RandomForestClassifier\n",
        "\n",
        "random_forest_clas = RandomForestClassifier(random_state=42)\n",
        "\n",
        "param_grid = {\n",
        "    'n_estimators': [50, 100, 200],\n",
        "    'max_depth': [1,2,3,5, 10, 20, None],\n",
        "    'min_samples_split': [2, 5, 10],\n",
        "    'min_samples_leaf': [1, 2, 4]\n",
        "}\n",
        "\n",
        "scoring = 'accuracy'\n",
        "\n",
        "grid_rf = GridSearchCV(\n",
        "    estimator=random_forest_clas,\n",
        "    param_grid=param_grid,\n",
        "    scoring=scoring,\n",
        "    cv=5,\n",
        "    n_jobs=-1\n",
        ")\n",
        "\n",
        "grid_rf.fit(X_train, Y_train)\n",
        "\n",
        "print(\"Best Parameters:\", grid_rf.best_params_)"
      ]
    },
    {
      "cell_type": "markdown",
      "metadata": {
        "id": "gV2NO3hjaCEh"
      },
      "source": [
        "### 5.2 Print the best combination of parameters and use it to train a Random Forest classifier model. (3pt)"
      ]
    },
    {
      "cell_type": "code",
      "execution_count": null,
      "metadata": {
        "id": "AgzZUi_kWxyh",
        "colab": {
          "base_uri": "https://localhost:8080/"
        },
        "outputId": "0c6daf1f-db8a-4eb6-ac97-083944be35bf"
      },
      "outputs": [
        {
          "output_type": "stream",
          "name": "stdout",
          "text": [
            "Best Parameters: {'max_depth': 5, 'min_samples_leaf': 1, 'min_samples_split': 2, 'n_estimators': 50}\n"
          ]
        },
        {
          "output_type": "execute_result",
          "data": {
            "text/plain": [
              "RandomForestClassifier(max_depth=5, n_estimators=50, random_state=42)"
            ]
          },
          "metadata": {},
          "execution_count": 376
        }
      ],
      "source": [
        "# TODO\n",
        "print(\"Best Parameters:\", grid_rf.best_params_)\n",
        "\n",
        "random_forest_clas.set_params(max_depth = 5, min_samples_leaf = 1, min_samples_split = 2 , n_estimators = 50)\n",
        "\n",
        "random_forest_clas.fit(X_train,Y_train)"
      ]
    },
    {
      "cell_type": "markdown",
      "metadata": {
        "id": "8p9ibWd8aSbk"
      },
      "source": [
        "### 5.3  Evaluate using the same metrics as before (accuracy_score, precision_score, recall_score, confusion_matrix, f1_score, roc_auc_score) (5pt)"
      ]
    },
    {
      "cell_type": "code",
      "execution_count": null,
      "metadata": {
        "id": "6d5bRGXyYa8Z",
        "colab": {
          "base_uri": "https://localhost:8080/"
        },
        "outputId": "15acfb38-6841-4e19-ba66-6918e938874d"
      },
      "outputs": [
        {
          "output_type": "stream",
          "name": "stdout",
          "text": [
            "Accuracy: 0.8552288797915891\n",
            "Precision: 0.58\n",
            "Recall: 0.45617977528089887\n",
            "Confusion Matrix:\n",
            " [[2095  147]\n",
            " [ 242  203]]\n",
            "F1 Score: 0.5106918238993711\n",
            "ROC AUC Score: 0.6953066583808598\n"
          ]
        }
      ],
      "source": [
        "# TODO\n",
        "Y_pred = random_forest_clas.predict(X_test)\n",
        "\n",
        "# calculate and print the evaluation metrics\n",
        "print(\"Accuracy:\", accuracy_score(Y_test, Y_pred))\n",
        "print(\"Precision:\", precision_score(Y_test, Y_pred))\n",
        "print(\"Recall:\", recall_score(Y_test, Y_pred))\n",
        "print(\"Confusion Matrix:\\n\", confusion_matrix(Y_test, Y_pred))\n",
        "print(\"F1 Score:\", f1_score(Y_test, Y_pred))\n",
        "print(\"ROC AUC Score:\", roc_auc_score(Y_test, Y_pred))"
      ]
    },
    {
      "cell_type": "code",
      "source": [
        "# lets try with the balance data set\n",
        "random_forest_clas.fit(x_train_bal,y_train_bal)"
      ],
      "metadata": {
        "colab": {
          "base_uri": "https://localhost:8080/"
        },
        "id": "q9znQDnvwN78",
        "outputId": "d220f614-242e-48bd-e7f1-119bd0ae85a0"
      },
      "execution_count": null,
      "outputs": [
        {
          "output_type": "execute_result",
          "data": {
            "text/plain": [
              "RandomForestClassifier(max_depth=5, n_estimators=50, random_state=42)"
            ]
          },
          "metadata": {},
          "execution_count": 378
        }
      ]
    },
    {
      "cell_type": "code",
      "source": [
        "Y_pred = random_forest_clas.predict(X_test)\n",
        "\n",
        "# calculate and print the evaluation metrics\n",
        "print(\"Accuracy:\", accuracy_score(Y_test, Y_pred))\n",
        "print(\"Precision:\", precision_score(Y_test, Y_pred))\n",
        "print(\"Recall:\", recall_score(Y_test, Y_pred))\n",
        "print(\"Confusion Matrix:\\n\", confusion_matrix(Y_test, Y_pred))\n",
        "print(\"F1 Score:\", f1_score(Y_test, Y_pred))\n",
        "print(\"ROC AUC Score:\", roc_auc_score(Y_test, Y_pred))"
      ],
      "metadata": {
        "colab": {
          "base_uri": "https://localhost:8080/"
        },
        "id": "s7NhjDv8wdJj",
        "outputId": "546c6578-01ee-4f52-a143-be710518a948"
      },
      "execution_count": null,
      "outputs": [
        {
          "output_type": "stream",
          "name": "stdout",
          "text": [
            "Accuracy: 0.8500186081131373\n",
            "Precision: 0.5464601769911505\n",
            "Recall: 0.5550561797752809\n",
            "Confusion Matrix:\n",
            " [[2037  205]\n",
            " [ 198  247]]\n",
            "F1 Score: 0.5507246376811594\n",
            "ROC AUC Score: 0.73180998105624\n"
          ]
        }
      ]
    },
    {
      "cell_type": "markdown",
      "metadata": {
        "id": "-XuX9sEUcu42"
      },
      "source": [
        "# 6. Boosting Classifier (20 pts total)"
      ]
    },
    {
      "cell_type": "markdown",
      "metadata": {
        "id": "k9g6-WtWoQli"
      },
      "source": [
        "## 6.1 AdaBoost Classifier (10 pts total)"
      ]
    },
    {
      "cell_type": "markdown",
      "metadata": {
        "id": "94faLGF4dHDX"
      },
      "source": [
        "### 6.1.1 Perform a grid search for best values for parameters={n_estimators, learning_rate} of an AdaBoostClassifier and the given training set. (4pt) "
      ]
    },
    {
      "cell_type": "code",
      "execution_count": null,
      "metadata": {
        "id": "jFwyYsHQc0jb",
        "colab": {
          "base_uri": "https://localhost:8080/"
        },
        "outputId": "a8430d58-65a9-410c-b223-64b3391f74aa"
      },
      "outputs": [
        {
          "output_type": "stream",
          "name": "stdout",
          "text": [
            "Best parameters:  {'learning_rate': 1.0, 'n_estimators': 100}\n",
            "Best score:  0.60600752785599\n"
          ]
        }
      ],
      "source": [
        "# TODO\n",
        "from sklearn.ensemble import AdaBoostClassifier\n",
        "\n",
        "ada_class = AdaBoostClassifier()\n",
        "\n",
        "param_grid = {\n",
        "    'n_estimators': [50, 100, 150],\n",
        "    'learning_rate': [0.01, 0.1, 1.0]\n",
        "}\n",
        "\n",
        "grid_ada = GridSearchCV(estimator=ada_class, param_grid=param_grid,scoring='precision')\n",
        "\n",
        "grid_ada.fit(X_train, Y_train)\n",
        "print(\"Best parameters: \", grid_ada.best_params_)\n",
        "print(\"Best score: \", grid_ada.best_score_)"
      ]
    },
    {
      "cell_type": "markdown",
      "metadata": {
        "id": "Hmofa6lXcG5l"
      },
      "source": [
        "### 6.1.2 Train an AdaboostClassifier using the best parameter set you found in step 6.1.1 (3pt) "
      ]
    },
    {
      "cell_type": "code",
      "execution_count": null,
      "metadata": {
        "id": "JiQmOcz8gjNi",
        "colab": {
          "base_uri": "https://localhost:8080/"
        },
        "outputId": "08a08df0-4520-483e-8d07-d6b52b6064c0"
      },
      "outputs": [
        {
          "output_type": "execute_result",
          "data": {
            "text/plain": [
              "AdaBoostClassifier(n_estimators=100)"
            ]
          },
          "metadata": {},
          "execution_count": 381
        }
      ],
      "source": [
        "# TODO\n",
        "ada_class.set_params(learning_rate=1.0,n_estimators=100)\n",
        "ada_class.fit(X_train,Y_train)"
      ]
    },
    {
      "cell_type": "markdown",
      "metadata": {
        "id": "SOpbWfoTcYMS"
      },
      "source": [
        "### 6.1.3 Evaluate using the same metrics as before (accuracy_score, precision_score, recall_score, confusion_matrix, f1_score, roc_auc_score) (3pt)"
      ]
    },
    {
      "cell_type": "code",
      "execution_count": null,
      "metadata": {
        "id": "mGS9o87aiQrP",
        "colab": {
          "base_uri": "https://localhost:8080/"
        },
        "outputId": "921c8f40-03df-44ed-c74e-0e20544300e7"
      },
      "outputs": [
        {
          "output_type": "stream",
          "name": "stdout",
          "text": [
            "Accuracy: 0.8533680684778564\n",
            "Precision: 0.568733153638814\n",
            "Recall: 0.47415730337078654\n",
            "Confusion Matrix:\n",
            " [[2082  160]\n",
            " [ 234  211]]\n",
            "F1 Score: 0.5171568627450981\n",
            "ROC AUC Score: 0.7013962252803978\n"
          ]
        }
      ],
      "source": [
        "# TODO\n",
        "Y_pred = ada_class.predict(X_test)\n",
        "\n",
        "# calculate and print the evaluation metrics\n",
        "print(\"Accuracy:\", accuracy_score(Y_test, Y_pred))\n",
        "print(\"Precision:\", precision_score(Y_test, Y_pred))\n",
        "print(\"Recall:\", recall_score(Y_test, Y_pred))\n",
        "print(\"Confusion Matrix:\\n\", confusion_matrix(Y_test, Y_pred))\n",
        "print(\"F1 Score:\", f1_score(Y_test, Y_pred))\n",
        "print(\"ROC AUC Score:\", roc_auc_score(Y_test, Y_pred))"
      ]
    },
    {
      "cell_type": "code",
      "source": [
        "# Lets test it with the balance data set\n",
        "\n",
        "ada_class.fit(x_train_bal,y_train_bal)\n"
      ],
      "metadata": {
        "colab": {
          "base_uri": "https://localhost:8080/"
        },
        "id": "wPp-RM2OyQVR",
        "outputId": "6e9a91e2-717c-41b9-df58-5eaccb4e08be"
      },
      "execution_count": null,
      "outputs": [
        {
          "output_type": "execute_result",
          "data": {
            "text/plain": [
              "AdaBoostClassifier(n_estimators=100)"
            ]
          },
          "metadata": {},
          "execution_count": 383
        }
      ]
    },
    {
      "cell_type": "code",
      "source": [
        "Y_pred = ada_class.predict(X_test)\n",
        "\n",
        "# calculate and print the evaluation metrics\n",
        "print(\"Accuracy:\", accuracy_score(Y_test, Y_pred))\n",
        "print(\"Precision:\", precision_score(Y_test, Y_pred))\n",
        "print(\"Recall:\", recall_score(Y_test, Y_pred))\n",
        "print(\"Confusion Matrix:\\n\", confusion_matrix(Y_test, Y_pred))\n",
        "print(\"F1 Score:\", f1_score(Y_test, Y_pred))\n",
        "print(\"ROC AUC Score:\", roc_auc_score(Y_test, Y_pred))"
      ],
      "metadata": {
        "colab": {
          "base_uri": "https://localhost:8080/"
        },
        "id": "lyBT7AxryccN",
        "outputId": "7b0efcb9-a937-4342-d260-09f8ecc8771f"
      },
      "execution_count": null,
      "outputs": [
        {
          "output_type": "stream",
          "name": "stdout",
          "text": [
            "Accuracy: 0.8120580573129884\n",
            "Precision: 0.4473684210526316\n",
            "Recall: 0.5730337078651685\n",
            "Confusion Matrix:\n",
            " [[1927  315]\n",
            " [ 190  255]]\n",
            "F1 Score: 0.5024630541871922\n",
            "ROC AUC Score: 0.7162670769477492\n"
          ]
        }
      ]
    },
    {
      "cell_type": "markdown",
      "metadata": {
        "id": "5T2QO0aloZwg"
      },
      "source": [
        "## 6.2 Gradient Boosting Classifier (10 pts total)"
      ]
    },
    {
      "cell_type": "markdown",
      "metadata": {
        "id": "Xf-QJ-tVcnSU"
      },
      "source": [
        "### 6.2.1 Perform a grid search for best values for parameters={n_estimators, max_depth, learning_rate} of a GradientBoostingClassifier and the given training set. (4pt)"
      ]
    },
    {
      "cell_type": "code",
      "execution_count": null,
      "metadata": {
        "id": "8erF7UBQhXd3",
        "colab": {
          "base_uri": "https://localhost:8080/"
        },
        "outputId": "6046cbbf-715c-454a-e7b4-9d4aaa00a273"
      },
      "outputs": [
        {
          "output_type": "stream",
          "name": "stderr",
          "text": [
            "/usr/local/lib/python3.8/dist-packages/sklearn/metrics/_classification.py:1318: UndefinedMetricWarning: Precision is ill-defined and being set to 0.0 due to no predicted samples. Use `zero_division` parameter to control this behavior.\n",
            "  _warn_prf(average, modifier, msg_start, len(result))\n",
            "/usr/local/lib/python3.8/dist-packages/sklearn/metrics/_classification.py:1318: UndefinedMetricWarning: Precision is ill-defined and being set to 0.0 due to no predicted samples. Use `zero_division` parameter to control this behavior.\n",
            "  _warn_prf(average, modifier, msg_start, len(result))\n",
            "/usr/local/lib/python3.8/dist-packages/sklearn/metrics/_classification.py:1318: UndefinedMetricWarning: Precision is ill-defined and being set to 0.0 due to no predicted samples. Use `zero_division` parameter to control this behavior.\n",
            "  _warn_prf(average, modifier, msg_start, len(result))\n",
            "/usr/local/lib/python3.8/dist-packages/sklearn/metrics/_classification.py:1318: UndefinedMetricWarning: Precision is ill-defined and being set to 0.0 due to no predicted samples. Use `zero_division` parameter to control this behavior.\n",
            "  _warn_prf(average, modifier, msg_start, len(result))\n",
            "/usr/local/lib/python3.8/dist-packages/sklearn/metrics/_classification.py:1318: UndefinedMetricWarning: Precision is ill-defined and being set to 0.0 due to no predicted samples. Use `zero_division` parameter to control this behavior.\n",
            "  _warn_prf(average, modifier, msg_start, len(result))\n",
            "/usr/local/lib/python3.8/dist-packages/sklearn/metrics/_classification.py:1318: UndefinedMetricWarning: Precision is ill-defined and being set to 0.0 due to no predicted samples. Use `zero_division` parameter to control this behavior.\n",
            "  _warn_prf(average, modifier, msg_start, len(result))\n",
            "/usr/local/lib/python3.8/dist-packages/sklearn/metrics/_classification.py:1318: UndefinedMetricWarning: Precision is ill-defined and being set to 0.0 due to no predicted samples. Use `zero_division` parameter to control this behavior.\n",
            "  _warn_prf(average, modifier, msg_start, len(result))\n",
            "/usr/local/lib/python3.8/dist-packages/sklearn/metrics/_classification.py:1318: UndefinedMetricWarning: Precision is ill-defined and being set to 0.0 due to no predicted samples. Use `zero_division` parameter to control this behavior.\n",
            "  _warn_prf(average, modifier, msg_start, len(result))\n",
            "/usr/local/lib/python3.8/dist-packages/sklearn/metrics/_classification.py:1318: UndefinedMetricWarning: Precision is ill-defined and being set to 0.0 due to no predicted samples. Use `zero_division` parameter to control this behavior.\n",
            "  _warn_prf(average, modifier, msg_start, len(result))\n",
            "/usr/local/lib/python3.8/dist-packages/sklearn/metrics/_classification.py:1318: UndefinedMetricWarning: Precision is ill-defined and being set to 0.0 due to no predicted samples. Use `zero_division` parameter to control this behavior.\n",
            "  _warn_prf(average, modifier, msg_start, len(result))\n",
            "/usr/local/lib/python3.8/dist-packages/sklearn/metrics/_classification.py:1318: UndefinedMetricWarning: Precision is ill-defined and being set to 0.0 due to no predicted samples. Use `zero_division` parameter to control this behavior.\n",
            "  _warn_prf(average, modifier, msg_start, len(result))\n",
            "/usr/local/lib/python3.8/dist-packages/sklearn/metrics/_classification.py:1318: UndefinedMetricWarning: Precision is ill-defined and being set to 0.0 due to no predicted samples. Use `zero_division` parameter to control this behavior.\n",
            "  _warn_prf(average, modifier, msg_start, len(result))\n",
            "/usr/local/lib/python3.8/dist-packages/sklearn/metrics/_classification.py:1318: UndefinedMetricWarning: Precision is ill-defined and being set to 0.0 due to no predicted samples. Use `zero_division` parameter to control this behavior.\n",
            "  _warn_prf(average, modifier, msg_start, len(result))\n",
            "/usr/local/lib/python3.8/dist-packages/sklearn/metrics/_classification.py:1318: UndefinedMetricWarning: Precision is ill-defined and being set to 0.0 due to no predicted samples. Use `zero_division` parameter to control this behavior.\n",
            "  _warn_prf(average, modifier, msg_start, len(result))\n",
            "/usr/local/lib/python3.8/dist-packages/sklearn/metrics/_classification.py:1318: UndefinedMetricWarning: Precision is ill-defined and being set to 0.0 due to no predicted samples. Use `zero_division` parameter to control this behavior.\n",
            "  _warn_prf(average, modifier, msg_start, len(result))\n",
            "/usr/local/lib/python3.8/dist-packages/sklearn/metrics/_classification.py:1318: UndefinedMetricWarning: Precision is ill-defined and being set to 0.0 due to no predicted samples. Use `zero_division` parameter to control this behavior.\n",
            "  _warn_prf(average, modifier, msg_start, len(result))\n",
            "/usr/local/lib/python3.8/dist-packages/sklearn/metrics/_classification.py:1318: UndefinedMetricWarning: Precision is ill-defined and being set to 0.0 due to no predicted samples. Use `zero_division` parameter to control this behavior.\n",
            "  _warn_prf(average, modifier, msg_start, len(result))\n",
            "/usr/local/lib/python3.8/dist-packages/sklearn/metrics/_classification.py:1318: UndefinedMetricWarning: Precision is ill-defined and being set to 0.0 due to no predicted samples. Use `zero_division` parameter to control this behavior.\n",
            "  _warn_prf(average, modifier, msg_start, len(result))\n",
            "/usr/local/lib/python3.8/dist-packages/sklearn/metrics/_classification.py:1318: UndefinedMetricWarning: Precision is ill-defined and being set to 0.0 due to no predicted samples. Use `zero_division` parameter to control this behavior.\n",
            "  _warn_prf(average, modifier, msg_start, len(result))\n",
            "/usr/local/lib/python3.8/dist-packages/sklearn/metrics/_classification.py:1318: UndefinedMetricWarning: Precision is ill-defined and being set to 0.0 due to no predicted samples. Use `zero_division` parameter to control this behavior.\n",
            "  _warn_prf(average, modifier, msg_start, len(result))\n",
            "/usr/local/lib/python3.8/dist-packages/sklearn/metrics/_classification.py:1318: UndefinedMetricWarning: Precision is ill-defined and being set to 0.0 due to no predicted samples. Use `zero_division` parameter to control this behavior.\n",
            "  _warn_prf(average, modifier, msg_start, len(result))\n",
            "/usr/local/lib/python3.8/dist-packages/sklearn/metrics/_classification.py:1318: UndefinedMetricWarning: Precision is ill-defined and being set to 0.0 due to no predicted samples. Use `zero_division` parameter to control this behavior.\n",
            "  _warn_prf(average, modifier, msg_start, len(result))\n",
            "/usr/local/lib/python3.8/dist-packages/sklearn/metrics/_classification.py:1318: UndefinedMetricWarning: Precision is ill-defined and being set to 0.0 due to no predicted samples. Use `zero_division` parameter to control this behavior.\n",
            "  _warn_prf(average, modifier, msg_start, len(result))\n",
            "/usr/local/lib/python3.8/dist-packages/sklearn/metrics/_classification.py:1318: UndefinedMetricWarning: Precision is ill-defined and being set to 0.0 due to no predicted samples. Use `zero_division` parameter to control this behavior.\n",
            "  _warn_prf(average, modifier, msg_start, len(result))\n",
            "/usr/local/lib/python3.8/dist-packages/sklearn/metrics/_classification.py:1318: UndefinedMetricWarning: Precision is ill-defined and being set to 0.0 due to no predicted samples. Use `zero_division` parameter to control this behavior.\n",
            "  _warn_prf(average, modifier, msg_start, len(result))\n",
            "/usr/local/lib/python3.8/dist-packages/sklearn/metrics/_classification.py:1318: UndefinedMetricWarning: Precision is ill-defined and being set to 0.0 due to no predicted samples. Use `zero_division` parameter to control this behavior.\n",
            "  _warn_prf(average, modifier, msg_start, len(result))\n",
            "/usr/local/lib/python3.8/dist-packages/sklearn/metrics/_classification.py:1318: UndefinedMetricWarning: Precision is ill-defined and being set to 0.0 due to no predicted samples. Use `zero_division` parameter to control this behavior.\n",
            "  _warn_prf(average, modifier, msg_start, len(result))\n",
            "/usr/local/lib/python3.8/dist-packages/sklearn/metrics/_classification.py:1318: UndefinedMetricWarning: Precision is ill-defined and being set to 0.0 due to no predicted samples. Use `zero_division` parameter to control this behavior.\n",
            "  _warn_prf(average, modifier, msg_start, len(result))\n",
            "/usr/local/lib/python3.8/dist-packages/sklearn/metrics/_classification.py:1318: UndefinedMetricWarning: Precision is ill-defined and being set to 0.0 due to no predicted samples. Use `zero_division` parameter to control this behavior.\n",
            "  _warn_prf(average, modifier, msg_start, len(result))\n",
            "/usr/local/lib/python3.8/dist-packages/sklearn/metrics/_classification.py:1318: UndefinedMetricWarning: Precision is ill-defined and being set to 0.0 due to no predicted samples. Use `zero_division` parameter to control this behavior.\n",
            "  _warn_prf(average, modifier, msg_start, len(result))\n",
            "/usr/local/lib/python3.8/dist-packages/sklearn/metrics/_classification.py:1318: UndefinedMetricWarning: Precision is ill-defined and being set to 0.0 due to no predicted samples. Use `zero_division` parameter to control this behavior.\n",
            "  _warn_prf(average, modifier, msg_start, len(result))\n",
            "/usr/local/lib/python3.8/dist-packages/sklearn/metrics/_classification.py:1318: UndefinedMetricWarning: Precision is ill-defined and being set to 0.0 due to no predicted samples. Use `zero_division` parameter to control this behavior.\n",
            "  _warn_prf(average, modifier, msg_start, len(result))\n",
            "/usr/local/lib/python3.8/dist-packages/sklearn/metrics/_classification.py:1318: UndefinedMetricWarning: Precision is ill-defined and being set to 0.0 due to no predicted samples. Use `zero_division` parameter to control this behavior.\n",
            "  _warn_prf(average, modifier, msg_start, len(result))\n",
            "/usr/local/lib/python3.8/dist-packages/sklearn/metrics/_classification.py:1318: UndefinedMetricWarning: Precision is ill-defined and being set to 0.0 due to no predicted samples. Use `zero_division` parameter to control this behavior.\n",
            "  _warn_prf(average, modifier, msg_start, len(result))\n",
            "/usr/local/lib/python3.8/dist-packages/sklearn/metrics/_classification.py:1318: UndefinedMetricWarning: Precision is ill-defined and being set to 0.0 due to no predicted samples. Use `zero_division` parameter to control this behavior.\n",
            "  _warn_prf(average, modifier, msg_start, len(result))\n",
            "/usr/local/lib/python3.8/dist-packages/sklearn/metrics/_classification.py:1318: UndefinedMetricWarning: Precision is ill-defined and being set to 0.0 due to no predicted samples. Use `zero_division` parameter to control this behavior.\n",
            "  _warn_prf(average, modifier, msg_start, len(result))\n",
            "/usr/local/lib/python3.8/dist-packages/sklearn/metrics/_classification.py:1318: UndefinedMetricWarning: Precision is ill-defined and being set to 0.0 due to no predicted samples. Use `zero_division` parameter to control this behavior.\n",
            "  _warn_prf(average, modifier, msg_start, len(result))\n",
            "/usr/local/lib/python3.8/dist-packages/sklearn/metrics/_classification.py:1318: UndefinedMetricWarning: Precision is ill-defined and being set to 0.0 due to no predicted samples. Use `zero_division` parameter to control this behavior.\n",
            "  _warn_prf(average, modifier, msg_start, len(result))\n",
            "/usr/local/lib/python3.8/dist-packages/sklearn/metrics/_classification.py:1318: UndefinedMetricWarning: Precision is ill-defined and being set to 0.0 due to no predicted samples. Use `zero_division` parameter to control this behavior.\n",
            "  _warn_prf(average, modifier, msg_start, len(result))\n",
            "/usr/local/lib/python3.8/dist-packages/sklearn/metrics/_classification.py:1318: UndefinedMetricWarning: Precision is ill-defined and being set to 0.0 due to no predicted samples. Use `zero_division` parameter to control this behavior.\n",
            "  _warn_prf(average, modifier, msg_start, len(result))\n",
            "/usr/local/lib/python3.8/dist-packages/sklearn/metrics/_classification.py:1318: UndefinedMetricWarning: Precision is ill-defined and being set to 0.0 due to no predicted samples. Use `zero_division` parameter to control this behavior.\n",
            "  _warn_prf(average, modifier, msg_start, len(result))\n",
            "/usr/local/lib/python3.8/dist-packages/sklearn/metrics/_classification.py:1318: UndefinedMetricWarning: Precision is ill-defined and being set to 0.0 due to no predicted samples. Use `zero_division` parameter to control this behavior.\n",
            "  _warn_prf(average, modifier, msg_start, len(result))\n",
            "/usr/local/lib/python3.8/dist-packages/sklearn/metrics/_classification.py:1318: UndefinedMetricWarning: Precision is ill-defined and being set to 0.0 due to no predicted samples. Use `zero_division` parameter to control this behavior.\n",
            "  _warn_prf(average, modifier, msg_start, len(result))\n",
            "/usr/local/lib/python3.8/dist-packages/sklearn/metrics/_classification.py:1318: UndefinedMetricWarning: Precision is ill-defined and being set to 0.0 due to no predicted samples. Use `zero_division` parameter to control this behavior.\n",
            "  _warn_prf(average, modifier, msg_start, len(result))\n",
            "/usr/local/lib/python3.8/dist-packages/sklearn/metrics/_classification.py:1318: UndefinedMetricWarning: Precision is ill-defined and being set to 0.0 due to no predicted samples. Use `zero_division` parameter to control this behavior.\n",
            "  _warn_prf(average, modifier, msg_start, len(result))\n",
            "/usr/local/lib/python3.8/dist-packages/sklearn/metrics/_classification.py:1318: UndefinedMetricWarning: Precision is ill-defined and being set to 0.0 due to no predicted samples. Use `zero_division` parameter to control this behavior.\n",
            "  _warn_prf(average, modifier, msg_start, len(result))\n",
            "/usr/local/lib/python3.8/dist-packages/sklearn/metrics/_classification.py:1318: UndefinedMetricWarning: Precision is ill-defined and being set to 0.0 due to no predicted samples. Use `zero_division` parameter to control this behavior.\n",
            "  _warn_prf(average, modifier, msg_start, len(result))\n",
            "/usr/local/lib/python3.8/dist-packages/sklearn/metrics/_classification.py:1318: UndefinedMetricWarning: Precision is ill-defined and being set to 0.0 due to no predicted samples. Use `zero_division` parameter to control this behavior.\n",
            "  _warn_prf(average, modifier, msg_start, len(result))\n",
            "/usr/local/lib/python3.8/dist-packages/sklearn/metrics/_classification.py:1318: UndefinedMetricWarning: Precision is ill-defined and being set to 0.0 due to no predicted samples. Use `zero_division` parameter to control this behavior.\n",
            "  _warn_prf(average, modifier, msg_start, len(result))\n",
            "/usr/local/lib/python3.8/dist-packages/sklearn/metrics/_classification.py:1318: UndefinedMetricWarning: Precision is ill-defined and being set to 0.0 due to no predicted samples. Use `zero_division` parameter to control this behavior.\n",
            "  _warn_prf(average, modifier, msg_start, len(result))\n",
            "/usr/local/lib/python3.8/dist-packages/sklearn/metrics/_classification.py:1318: UndefinedMetricWarning: Precision is ill-defined and being set to 0.0 due to no predicted samples. Use `zero_division` parameter to control this behavior.\n",
            "  _warn_prf(average, modifier, msg_start, len(result))\n",
            "/usr/local/lib/python3.8/dist-packages/sklearn/metrics/_classification.py:1318: UndefinedMetricWarning: Precision is ill-defined and being set to 0.0 due to no predicted samples. Use `zero_division` parameter to control this behavior.\n",
            "  _warn_prf(average, modifier, msg_start, len(result))\n",
            "/usr/local/lib/python3.8/dist-packages/sklearn/metrics/_classification.py:1318: UndefinedMetricWarning: Precision is ill-defined and being set to 0.0 due to no predicted samples. Use `zero_division` parameter to control this behavior.\n",
            "  _warn_prf(average, modifier, msg_start, len(result))\n",
            "/usr/local/lib/python3.8/dist-packages/sklearn/metrics/_classification.py:1318: UndefinedMetricWarning: Precision is ill-defined and being set to 0.0 due to no predicted samples. Use `zero_division` parameter to control this behavior.\n",
            "  _warn_prf(average, modifier, msg_start, len(result))\n",
            "/usr/local/lib/python3.8/dist-packages/sklearn/metrics/_classification.py:1318: UndefinedMetricWarning: Precision is ill-defined and being set to 0.0 due to no predicted samples. Use `zero_division` parameter to control this behavior.\n",
            "  _warn_prf(average, modifier, msg_start, len(result))\n",
            "/usr/local/lib/python3.8/dist-packages/sklearn/metrics/_classification.py:1318: UndefinedMetricWarning: Precision is ill-defined and being set to 0.0 due to no predicted samples. Use `zero_division` parameter to control this behavior.\n",
            "  _warn_prf(average, modifier, msg_start, len(result))\n",
            "/usr/local/lib/python3.8/dist-packages/sklearn/metrics/_classification.py:1318: UndefinedMetricWarning: Precision is ill-defined and being set to 0.0 due to no predicted samples. Use `zero_division` parameter to control this behavior.\n",
            "  _warn_prf(average, modifier, msg_start, len(result))\n",
            "/usr/local/lib/python3.8/dist-packages/sklearn/metrics/_classification.py:1318: UndefinedMetricWarning: Precision is ill-defined and being set to 0.0 due to no predicted samples. Use `zero_division` parameter to control this behavior.\n",
            "  _warn_prf(average, modifier, msg_start, len(result))\n",
            "/usr/local/lib/python3.8/dist-packages/sklearn/metrics/_classification.py:1318: UndefinedMetricWarning: Precision is ill-defined and being set to 0.0 due to no predicted samples. Use `zero_division` parameter to control this behavior.\n",
            "  _warn_prf(average, modifier, msg_start, len(result))\n",
            "/usr/local/lib/python3.8/dist-packages/sklearn/metrics/_classification.py:1318: UndefinedMetricWarning: Precision is ill-defined and being set to 0.0 due to no predicted samples. Use `zero_division` parameter to control this behavior.\n",
            "  _warn_prf(average, modifier, msg_start, len(result))\n",
            "/usr/local/lib/python3.8/dist-packages/sklearn/metrics/_classification.py:1318: UndefinedMetricWarning: Precision is ill-defined and being set to 0.0 due to no predicted samples. Use `zero_division` parameter to control this behavior.\n",
            "  _warn_prf(average, modifier, msg_start, len(result))\n",
            "/usr/local/lib/python3.8/dist-packages/sklearn/metrics/_classification.py:1318: UndefinedMetricWarning: Precision is ill-defined and being set to 0.0 due to no predicted samples. Use `zero_division` parameter to control this behavior.\n",
            "  _warn_prf(average, modifier, msg_start, len(result))\n",
            "/usr/local/lib/python3.8/dist-packages/sklearn/metrics/_classification.py:1318: UndefinedMetricWarning: Precision is ill-defined and being set to 0.0 due to no predicted samples. Use `zero_division` parameter to control this behavior.\n",
            "  _warn_prf(average, modifier, msg_start, len(result))\n",
            "/usr/local/lib/python3.8/dist-packages/sklearn/metrics/_classification.py:1318: UndefinedMetricWarning: Precision is ill-defined and being set to 0.0 due to no predicted samples. Use `zero_division` parameter to control this behavior.\n",
            "  _warn_prf(average, modifier, msg_start, len(result))\n",
            "/usr/local/lib/python3.8/dist-packages/sklearn/metrics/_classification.py:1318: UndefinedMetricWarning: Precision is ill-defined and being set to 0.0 due to no predicted samples. Use `zero_division` parameter to control this behavior.\n",
            "  _warn_prf(average, modifier, msg_start, len(result))\n",
            "/usr/local/lib/python3.8/dist-packages/sklearn/metrics/_classification.py:1318: UndefinedMetricWarning: Precision is ill-defined and being set to 0.0 due to no predicted samples. Use `zero_division` parameter to control this behavior.\n",
            "  _warn_prf(average, modifier, msg_start, len(result))\n"
          ]
        },
        {
          "output_type": "stream",
          "name": "stdout",
          "text": [
            "{'learning_rate': 0.01, 'max_depth': 4, 'n_estimators': 100}\n"
          ]
        }
      ],
      "source": [
        "# TODO\n",
        "from sklearn.ensemble import GradientBoostingClassifier\n",
        "\n",
        "grad_desc_class = GradientBoostingClassifier()\n",
        "\n",
        "param_grid = {\n",
        "    'n_estimators': [50, 100, 200],\n",
        "    'max_depth': [2, 3, 4],\n",
        "    'learning_rate': [0.1, 0.01, 0.001]\n",
        "}\n",
        "\n",
        "grid_gb_clf = GridSearchCV(grad_desc_class, param_grid, cv=5, scoring='precision')\n",
        "\n",
        "grid_gb_clf.fit(X_train, Y_train)\n",
        "print(grid_gb_clf.best_params_)"
      ]
    },
    {
      "cell_type": "markdown",
      "metadata": {
        "id": "RRZKR-bHott5"
      },
      "source": [
        "### 6.2.2 Train a GradientBoostingClassifier using the best parameter set you found in step 6.2.1 (3pt) "
      ]
    },
    {
      "cell_type": "code",
      "execution_count": null,
      "metadata": {
        "id": "bAQZH-KqkrNq",
        "colab": {
          "base_uri": "https://localhost:8080/"
        },
        "outputId": "92eda9e3-d68f-4ea8-91ec-34aac12fc249"
      },
      "outputs": [
        {
          "output_type": "execute_result",
          "data": {
            "text/plain": [
              "GradientBoostingClassifier(learning_rate=0.01, max_depth=4)"
            ]
          },
          "metadata": {},
          "execution_count": 386
        }
      ],
      "source": [
        "# TODOlearning_rate': 0.01, 'max_depth': 4, 'n_estimators': 100}\n",
        "\n",
        "grad_desc_class.set_params(learning_rate=0.01,max_depth=4,n_estimators=100)\n",
        "grad_desc_class.fit(X_train,Y_train)\n"
      ]
    },
    {
      "cell_type": "markdown",
      "metadata": {
        "id": "yzVtBSlpo9wF"
      },
      "source": [
        "### 6.2.3 Evaluate using the same metrics as before (accuracy_score, precision_score, recall_score, confusion_matrix, f1_score, roc_auc_score) (3pt)"
      ]
    },
    {
      "cell_type": "code",
      "execution_count": null,
      "metadata": {
        "id": "-xl5Bdwyk8_W",
        "colab": {
          "base_uri": "https://localhost:8080/"
        },
        "outputId": "5ae7de25-f04f-4ebf-be84-7cadd7b2d1a0"
      },
      "outputs": [
        {
          "output_type": "stream",
          "name": "stdout",
          "text": [
            "Accuracy: 0.8377372534425009\n",
            "Precision: 0.6956521739130435\n",
            "Recall: 0.035955056179775284\n",
            "Confusion Matrix:\n",
            " [[2235    7]\n",
            " [ 429   16]]\n",
            "F1 Score: 0.06837606837606838\n",
            "ROC AUC Score: 0.5164164219346691\n"
          ]
        }
      ],
      "source": [
        "# TODO\n",
        "Y_pred = grad_desc_class.predict(X_test)\n",
        "\n",
        "# calculate and print the evaluation metrics\n",
        "print(\"Accuracy:\", accuracy_score(Y_test, Y_pred))\n",
        "print(\"Precision:\", precision_score(Y_test, Y_pred))\n",
        "print(\"Recall:\", recall_score(Y_test, Y_pred))\n",
        "print(\"Confusion Matrix:\\n\", confusion_matrix(Y_test, Y_pred))\n",
        "print(\"F1 Score:\", f1_score(Y_test, Y_pred))\n",
        "print(\"ROC AUC Score:\", roc_auc_score(Y_test, Y_pred))"
      ]
    },
    {
      "cell_type": "code",
      "source": [
        "# lets try it with the balance data\n",
        "\n",
        "grad_desc_class.fit(x_train_bal,y_train_bal)\n",
        "\n",
        "Y_pred = grad_desc_class.predict(X_test)\n",
        "\n",
        "# calculate and print the evaluation metrics\n",
        "print(\"Accuracy:\", accuracy_score(Y_test, Y_pred))\n",
        "print(\"Precision:\", precision_score(Y_test, Y_pred))\n",
        "print(\"Recall:\", recall_score(Y_test, Y_pred))\n",
        "print(\"Confusion Matrix:\\n\", confusion_matrix(Y_test, Y_pred))\n",
        "print(\"F1 Score:\", f1_score(Y_test, Y_pred))\n",
        "print(\"ROC AUC Score:\", roc_auc_score(Y_test, Y_pred))"
      ],
      "metadata": {
        "colab": {
          "base_uri": "https://localhost:8080/"
        },
        "id": "kiLSh4Gj3d-r",
        "outputId": "a202f090-7bc6-4fcd-e7a5-449bb3a85a64"
      },
      "execution_count": null,
      "outputs": [
        {
          "output_type": "stream",
          "name": "stdout",
          "text": [
            "Accuracy: 0.851135094901377\n",
            "Precision: 0.550561797752809\n",
            "Recall: 0.550561797752809\n",
            "Confusion Matrix:\n",
            " [[2042  200]\n",
            " [ 200  245]]\n",
            "F1 Score: 0.550561797752809\n",
            "ROC AUC Score: 0.73067786587016\n"
          ]
        }
      ]
    },
    {
      "cell_type": "markdown",
      "metadata": {
        "id": "LW4nKeUQ2Ewh"
      },
      "source": [
        "# 7. Summary Discussion (4 pts)"
      ]
    },
    {
      "cell_type": "markdown",
      "metadata": {
        "id": "LSekQD9J2GTc"
      },
      "source": [
        "\\Which model yields the highest precision?\n",
        "\n",
        "By far the Gradient Descent boosting Classifier is the best presicion with 69%\n",
        "\n",
        "Which model yields the lowest recall? \n",
        "\n",
        "The lowest recall was 0.035 with Gradient Descent\n",
        "\n",
        "Which model yields the higest True Positive (TP)? \n",
        "\n",
        "Gradient descent with 2235 TP\n",
        "\n",
        "Which model yields the best performance overall? \n",
        "\n",
        "Gradient Descent is the best performing overall"
      ]
    }
  ],
  "metadata": {
    "colab": {
      "provenance": []
    },
    "kernelspec": {
      "display_name": "Python 3",
      "language": "python",
      "name": "python3"
    },
    "language_info": {
      "name": "python",
      "version": "3.10.3 (tags/v3.10.3:a342a49, Mar 16 2022, 13:07:40) [MSC v.1929 64 bit (AMD64)]"
    },
    "vscode": {
      "interpreter": {
        "hash": "60b64012b5ed67907a10276cfdedd88214213599e926916fcf8c83729d3a7c3a"
      }
    }
  },
  "nbformat": 4,
  "nbformat_minor": 0
}